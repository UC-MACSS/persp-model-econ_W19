{
 "cells": [
  {
   "cell_type": "code",
   "execution_count": 1,
   "metadata": {},
   "outputs": [],
   "source": [
    "import pandas as pd\n",
    "import numpy as np\n",
    "import scipy.integrate as intgr\n",
    "import scipy.stats as sts\n",
    "import matplotlib\n",
    "import matplotlib.pyplot as plt\n",
    "import scipy.optimize as opt\n",
    "import numpy.linalg as lin"
   ]
  },
  {
   "cell_type": "code",
   "execution_count": 2,
   "metadata": {},
   "outputs": [],
   "source": [
    "#Q1a"
   ]
  },
  {
   "cell_type": "code",
   "execution_count": 3,
   "metadata": {},
   "outputs": [
    {
     "name": "stderr",
     "output_type": "stream",
     "text": [
      "/anaconda3/lib/python3.7/site-packages/matplotlib/axes/_axes.py:6571: UserWarning: The 'normed' kwarg is deprecated, and has been replaced by the 'density' kwarg.\n",
      "  warnings.warn(\"The 'normed' kwarg is deprecated, and has been \"\n"
     ]
    },
    {
     "data": {
      "image/png": "[encoded data removed]",
      "text/plain": [
       "<Figure size 432x288 with 1 Axes>"
      ]
     },
     "metadata": {
      "needs_background": "light"
     },
     "output_type": "display_data"
    }
   ],
   "source": [
    "income = np.loadtxt('/Users/liujingyang/Desktop/incomes.txt')\n",
    "\n",
    "count, bins, ignored = plt.hist(income, 30, edgecolor='k', normed=True)\n",
    "plt.title('Distribution of MACSS students annual income 2018-2020')\n",
    "plt.xlabel('Annual income')\n",
    "plt.ylabel('Percent')\n",
    "plt.xlim([0, 150000])\n",
    "plt.show()"
   ]
  },
  {
   "cell_type": "code",
   "execution_count": 4,
   "metadata": {},
   "outputs": [],
   "source": [
    "#Q1b"
   ]
  },
  {
   "cell_type": "code",
   "execution_count": 5,
   "metadata": {},
   "outputs": [],
   "source": [
    "## Define the log-normal pdf function\n",
    "def trunc_lognorm_pdf(xvals, mu, sigma, cut_lb, cut_ub):\n",
    "\n",
    "    if cut_ub == 'None' and cut_lb == 'None':\n",
    "        prob_notcut = 1.0\n",
    "    elif cut_ub == 'None' and cut_lb != 'None':\n",
    "        prob_notcut = 1.0 - sts.lognorm.cdf(cut_lb, sigma, scale=np.exp(mu))\n",
    "    elif cut_ub != 'None' and cut_lb == 'None':\n",
    "        prob_notcut = sts.lognorm.cdf(cut_ub, sigma,scale=np.exp(mu))\n",
    "    elif cut_ub != 'None' and cut_lb != 'None':\n",
    "        prob_notcut = (sts.lognorm.cdf(cut_ub, sigma,scale=np.exp(mu)) -\n",
    "                       sts.lognorm.cdf(cut_lb, sigma,scale=np.exp(mu)))\n",
    "            \n",
    "    pdf_vals    = ((1/(xvals*sigma * np.sqrt(2 * np.pi)) *\n",
    "                    np.exp( - (np.log(xvals) - mu)**2 / (2 * sigma**2))) /\n",
    "                    prob_notcut)\n",
    "    \n",
    "    return pdf_vals"
   ]
  },
  {
   "cell_type": "code",
   "execution_count": 6,
   "metadata": {},
   "outputs": [],
   "source": [
    "## Define two data moments for GMM (mean(data),standard deviation(data)).\n",
    "\n",
    "def data_moments(xvals):\n",
    "\n",
    "    mean_data = xvals.mean()\n",
    "    std_data = xvals.std()\n",
    "    \n",
    "    return mean_data, std_data"
   ]
  },
  {
   "cell_type": "code",
   "execution_count": 7,
   "metadata": {},
   "outputs": [],
   "source": [
    "## Define two model moments for GMM (mean(model data),standard deviation(model data)).\n",
    "\n",
    "def model_moments(mu, sigma, cut_lb, cut_ub):  \n",
    "    xfx = lambda x: x * trunc_lognorm_pdf(x, mu, sigma, cut_lb, cut_ub)\n",
    "    (mean_model, m_m_err) = intgr.quad(xfx, cut_lb, cut_ub)\n",
    "    x2fx = lambda x: ((x - mean_model) ** 2) * trunc_lognorm_pdf(x, mu, sigma, cut_lb, cut_ub) \n",
    "    (var_model, v_m_err) = intgr.quad(x2fx, cut_lb, cut_ub)    \n",
    "    std_model = np.sqrt(var_model)\n",
    "    return mean_model, std_model"
   ]
  },
  {
   "cell_type": "code",
   "execution_count": 8,
   "metadata": {},
   "outputs": [],
   "source": [
    "## Define vector of moment errors for GMM.\n",
    "\n",
    "def err_vec(xvals, mu, sigma, cut_lb, cut_ub, simple):\n",
    "    mean_data, std_data = data_moments(xvals)\n",
    "    moms_data = np.array([[mean_data], [std_data]])\n",
    "    mean_model, std_model = model_moments(mu, sigma, cut_lb, cut_ub)\n",
    "    moms_model = np.array([[mean_model], [std_model]])\n",
    "    if simple:\n",
    "        err_vec = moms_model - moms_data\n",
    "    else:\n",
    "        err_vec = (moms_model - moms_data) / moms_data\n",
    "    \n",
    "    return err_vec"
   ]
  },
  {
   "cell_type": "code",
   "execution_count": 9,
   "metadata": {},
   "outputs": [],
   "source": [
    "def criterion(params, *args):\n",
    "    mu, sigma = params\n",
    "    xvals, cut_lb, cut_ub, W = args\n",
    "    err = err_vec(xvals, mu, sigma, cut_lb, cut_ub, simple=False)\n",
    "    crit_val = err.T @ W @ err\n",
    "    \n",
    "    return crit_val"
   ]
  },
  {
   "cell_type": "code",
   "execution_count": 10,
   "metadata": {},
   "outputs": [
    {
     "name": "stdout",
     "output_type": "stream",
     "text": [
      "mu_GMM1= 11.333599613401052  sig_GMM1= 0.2132552950928067\n",
      "Mean of points = 85276.82360625811 , Standard Deviation of points = 17992.542128046523\n",
      "Mean of model = 85276.82405854747 , Standard Deviation = 17992.541683009\n",
      "Error vector= [ 5.3037782e-09 -2.4734555e-08]\n",
      "GMM criterion function: [[6.39928276e-16]]\n"
     ]
    }
   ],
   "source": [
    "## Using Identity matrix\n",
    "\n",
    "mu_init = 11\n",
    "sig_init = 0.5\n",
    "params_init = np.array([mu_init, sig_init])\n",
    "W_hat = np.eye(2) \n",
    "gmm_args = (income, 0.0, 150000.0, W_hat)\n",
    "results = opt.minimize(criterion, params_init, args=(gmm_args), tol=1e-14,\n",
    "                       method='L-BFGS-B', bounds=((1e-10, None), (1e-10, None)))\n",
    "mu_GMM1, sig_GMM1 = results.x\n",
    "print('mu_GMM1=', mu_GMM1, ' sig_GMM1=', sig_GMM1)\n",
    "\n",
    "\n",
    "\n",
    "mean_data, std_data = data_moments(income)\n",
    "mean_model, std_model = model_moments(mu_GMM1, sig_GMM1, 0.0, 150000.0)\n",
    "err1 = err_vec(income, mu_GMM1, sig_GMM1, 0.0, 150000.0, False).reshape(2,)\n",
    "print('Mean of points =', mean_data, ', Standard Deviation of points =', std_data)\n",
    "print('Mean of model =', mean_model, ', Standard Deviation =', std_model)\n",
    "print('Error vector=', err1)\n",
    "print('GMM criterion function:',results.fun)"
   ]
  },
  {
   "cell_type": "code",
   "execution_count": 11,
   "metadata": {},
   "outputs": [
    {
     "name": "stderr",
     "output_type": "stream",
     "text": [
      "/anaconda3/lib/python3.7/site-packages/ipykernel_launcher.py:14: RuntimeWarning: divide by zero encountered in true_divide\n",
      "  \n",
      "/anaconda3/lib/python3.7/site-packages/ipykernel_launcher.py:15: RuntimeWarning: divide by zero encountered in log\n",
      "  from ipykernel import kernelapp as app\n",
      "/anaconda3/lib/python3.7/site-packages/ipykernel_launcher.py:15: RuntimeWarning: invalid value encountered in multiply\n",
      "  from ipykernel import kernelapp as app\n"
     ]
    },
    {
     "data": {
      "image/png": "[encoded data removed]",
      "text/plain": [
       "<Figure size 432x288 with 1 Axes>"
      ]
     },
     "metadata": {
      "needs_background": "light"
     },
     "output_type": "display_data"
    }
   ],
   "source": [
    "# Plot the histogram of data\n",
    "\n",
    "count, bins, ignored = plt.hist(income, 30, density=True,\n",
    "                                edgecolor='k')\n",
    "plt.title('Annual Income of MACSS graduates 2018-2020', fontsize=16)\n",
    "plt.xlabel(r'Annual Income')\n",
    "plt.ylabel(r'Percent')\n",
    "plt.xlim([1, 150000])  \n",
    "\n",
    "# Plot the estimated GMM PDF\n",
    "dist_pts = np.linspace(0, 150000, 1000)\n",
    "plt.plot(dist_pts, trunc_lognorm_pdf(dist_pts, mu_GMM1, sig_GMM1, 0.0, 150000),\n",
    "         linewidth=2, color='r', label='1: $\\mu_{GMM1}$,$\\sigma_{GMM1}$')\n",
    "plt.legend(loc='upper left')\n",
    "plt.show()"
   ]
  },
  {
   "cell_type": "code",
   "execution_count": 12,
   "metadata": {},
   "outputs": [],
   "source": [
    "#Q1c"
   ]
  },
  {
   "cell_type": "code",
   "execution_count": 13,
   "metadata": {},
   "outputs": [],
   "source": [
    "def get_Err_mat2(pts, mu, sigma, cut_lb, cut_ub, simple=False):\n",
    "    R = 2\n",
    "    N = len(pts)\n",
    "    Err_mat = np.zeros((R, N))\n",
    "    mean_model, std_model = model_moments(mu, sigma, cut_lb, cut_ub)\n",
    "    if simple:\n",
    "        Err_mat[0, :] = pts - mean_model\n",
    "        Err_mat[1, :] = ((mean_data - pts) ** 2) - std_model\n",
    "    else:\n",
    "        Err_mat[0, :] = (pts - mean_model) / mean_model\n",
    "        Err_mat[1, :] = (((mean_data - pts) ** 2) - std_model) / std_model\n",
    "    \n",
    "    return Err_mat"
   ]
  },
  {
   "cell_type": "code",
   "execution_count": 14,
   "metadata": {},
   "outputs": [
    {
     "name": "stdout",
     "output_type": "stream",
     "text": [
      "VCV2:\n",
      " [[4.45167060e-02 1.68385288e+03]\n",
      " [1.68385288e+03 9.54184437e+08]]\n",
      "W_hat2:\n",
      " [[ 2.40701668e+01 -4.24767141e-05]\n",
      " [-4.24767141e-05  1.12297423e-09]]\n"
     ]
    }
   ],
   "source": [
    "Err_mat = get_Err_mat2(income, mu_GMM1, sig_GMM1, 0.0, 150000.0, False)\n",
    "VCV2 = (1 / income.shape[0]) * (Err_mat @ Err_mat.T)\n",
    "print('VCV2:\\n', VCV2)\n",
    "W_hat2 = lin.inv(VCV2)\n",
    "print('W_hat2:\\n', W_hat2)"
   ]
  },
  {
   "cell_type": "code",
   "execution_count": 15,
   "metadata": {},
   "outputs": [
    {
     "name": "stdout",
     "output_type": "stream",
     "text": [
      "mu_GMM2= 11.333599603618694  sig_GMM2= 0.21325529447620906\n",
      "Mean of points = 85276.82360625811 , Standard deviation of points = 17992.542128046523\n",
      "Mean of model = 85276.8232464362 , Standard deviation of model = 17992.541506074136\n",
      "Error vector = [-4.21945734e-09 -3.45683441e-08]\n",
      "GMM criterion function Value= 4.285285321889139e-16\n"
     ]
    }
   ],
   "source": [
    "## Using two moments, two steps optimal weighting matrix\n",
    "params_init = np.array([mu_GMM1, sig_GMM1])\n",
    "gmm_args = (income, 0.0, 150000.0, W_hat2)\n",
    "results_2 = opt.minimize(criterion, params_init, args=(gmm_args), tol=1e-14,\n",
    "                       method='L-BFGS-B', bounds=((1e-10, None), (1e-10, None)))\n",
    "mu_GMM2, sig_GMM2 = results_2.x\n",
    "print('mu_GMM2=', mu_GMM2, ' sig_GMM2=', sig_GMM2)\n",
    "\n",
    "mean_model_2, std_model_2 = model_moments(mu_GMM2, sig_GMM2, 0.0, 150000.0)\n",
    "err2 = err_vec(income, mu_GMM2, sig_GMM2, 0.0, 150000.0, False).reshape(2,)\n",
    "print('Mean of points =', mean_data, ', Standard deviation of points =', std_data)\n",
    "print('Mean of model =', mean_model_2, ', Standard deviation of model =', std_model_2)\n",
    "print('Error vector =', err2)\n",
    "print('GMM criterion function Value=', results_2.fun[0, 0])"
   ]
  },
  {
   "cell_type": "code",
   "execution_count": 16,
   "metadata": {},
   "outputs": [
    {
     "name": "stderr",
     "output_type": "stream",
     "text": [
      "/anaconda3/lib/python3.7/site-packages/ipykernel_launcher.py:14: RuntimeWarning: divide by zero encountered in true_divide\n",
      "  \n",
      "/anaconda3/lib/python3.7/site-packages/ipykernel_launcher.py:15: RuntimeWarning: divide by zero encountered in log\n",
      "  from ipykernel import kernelapp as app\n",
      "/anaconda3/lib/python3.7/site-packages/ipykernel_launcher.py:15: RuntimeWarning: invalid value encountered in multiply\n",
      "  from ipykernel import kernelapp as app\n"
     ]
    },
    {
     "data": {
      "image/png": "[encoded data removed]",
      "text/plain": [
       "<Figure size 432x288 with 1 Axes>"
      ]
     },
     "metadata": {
      "needs_background": "light"
     },
     "output_type": "display_data"
    }
   ],
   "source": [
    "## Plot the histogram of data.\n",
    "\n",
    "\n",
    "count, bins, ignored = plt.hist(income, 30, density=True,\n",
    "                                edgecolor='k')\n",
    "plt.title('Annual Income of MACSS 2018-2020 graduates', fontsize=16)\n",
    "plt.xlabel(r'Annual Income')\n",
    "plt.ylabel(r'Percent')\n",
    "plt.xlim([0, 150000])  \n",
    "\n",
    "# Plot the estimated GMM PDF with I.\n",
    "plt.plot(dist_pts, trunc_lognorm_pdf(dist_pts, mu_GMM1, sig_GMM1, 0.0, 150000),\n",
    "         linewidth=2, color='k', label='1: $\\mu_{GMM1}$,$\\sigma_{GMM1}$')\n",
    "\n",
    "plt.plot(dist_pts, trunc_lognorm_pdf(dist_pts, mu_GMM2, sig_GMM2, 0.0, 150000),\n",
    "         linewidth=2, color='r', label='2: $\\mu_{GMM2}$,$\\sigma_{GMM2}$')\n",
    "plt.legend(loc='upper left')\n",
    "plt.show()"
   ]
  },
  {
   "cell_type": "code",
   "execution_count": 17,
   "metadata": {},
   "outputs": [],
   "source": [
    "#Q1d"
   ]
  },
  {
   "cell_type": "code",
   "execution_count": 18,
   "metadata": {},
   "outputs": [],
   "source": [
    "## Define new data moments for GMM.\n",
    "\n",
    "def data_moments3(xvals):\n",
    "    bpct_1_dat = xvals[xvals < 75000].shape[0] / xvals.shape[0]\n",
    "    bpct_2_dat = (xvals[(xvals >= 75000) & (xvals < 100000)].shape[0] /\n",
    "                  xvals.shape[0])\n",
    "    bpct_3_dat = xvals[xvals >= 100000].shape[0] / xvals.shape[0]\n",
    "\n",
    "    return bpct_1_dat, bpct_2_dat, bpct_3_dat"
   ]
  },
  {
   "cell_type": "code",
   "execution_count": 19,
   "metadata": {},
   "outputs": [],
   "source": [
    "## Define new model moments for GMM.\n",
    "\n",
    "def model_moments3(mu, sigma, cut_lb, cut_ub):\n",
    "    xfx = lambda x: trunc_lognorm_pdf(x, mu, sigma, cut_lb, cut_ub)\n",
    "    (bpct_1_mod, bp_1_err) = intgr.quad(xfx, 0.0, 75000)\n",
    "    (bpct_2_mod, bp_2_err) = intgr.quad(xfx, 75000, 100000)\n",
    "    (bpct_3_mod, bp_3_err) = intgr.quad(xfx, 100000, 150000)\n",
    "    \n",
    "    return bpct_1_mod, bpct_2_mod, bpct_3_mod"
   ]
  },
  {
   "cell_type": "code",
   "execution_count": 20,
   "metadata": {},
   "outputs": [],
   "source": [
    "## Define new vector of moment errors for GMM.\n",
    "\n",
    "def err_vec3(xvals, mu, sigma, cut_lb, cut_ub, simple):\n",
    "    bpct_1_dat, bpct_2_dat, bpct_3_dat = \\\n",
    "        data_moments3(xvals)\n",
    "    moms_data = np.array([[bpct_1_dat], [bpct_2_dat], [bpct_3_dat]])\n",
    "    bpct_1_mod, bpct_2_mod, bpct_3_mod = \\\n",
    "        model_moments3(mu, sigma, cut_lb, cut_ub)\n",
    "    moms_model = np.array([[bpct_1_mod], [bpct_2_mod], [bpct_3_mod]])\n",
    "    if simple:\n",
    "        err_vec = moms_model - moms_data\n",
    "    else:\n",
    "        err_vec = (moms_model - moms_data) / moms_data\n",
    "    \n",
    "    return err_vec"
   ]
  },
  {
   "cell_type": "code",
   "execution_count": 21,
   "metadata": {},
   "outputs": [],
   "source": [
    "## Define new GMM weighted sum of squared moment errors criterion function value.\n",
    "\n",
    "def criterion3(params, *args):\n",
    "    mu, sigma = params\n",
    "    xvals, cut_lb, cut_ub, W = args\n",
    "    err = err_vec3(xvals, mu, sigma, cut_lb, cut_ub, simple=False)\n",
    "    crit_val = err.T @ W @ err \n",
    "    return crit_val"
   ]
  },
  {
   "cell_type": "code",
   "execution_count": 22,
   "metadata": {},
   "outputs": [
    {
     "name": "stdout",
     "output_type": "stream",
     "text": [
      "mu_GMM_3 = 11.336705179923449  sig_GMM_3 = 0.21151351610769975\n",
      "Error vector: [ 1.13768317e-08  1.18261299e-08 -4.66305708e-08]\n",
      "GMM criterion function Value: 2.4436997793444182e-15\n"
     ]
    }
   ],
   "source": [
    "W_hat_3 = np.eye(3)\n",
    "gmm_args = (income, 0.0, 150000, W_hat_3)\n",
    "results_3 = opt.minimize(criterion3, params_init, args=(gmm_args),\n",
    "                       method='L-BFGS-B', bounds=((1e-10, None), (1e-10, None)))\n",
    "mu_GMM_3, sig_GMM_3 = results_3.x\n",
    "print('mu_GMM_3 =', mu_GMM_3, ' sig_GMM_3 =', sig_GMM_3)\n",
    "err3 = err_vec3(income, mu_GMM_3, sig_GMM_3, 0.0, 150000.0, False).reshape(3,)\n",
    "print('Error vector:', err3)\n",
    "print('GMM criterion function Value:',results_3.fun[0,0])"
   ]
  },
  {
   "cell_type": "code",
   "execution_count": 23,
   "metadata": {},
   "outputs": [
    {
     "data": {
      "text/html": [
       "<div>\n",
       "<style scoped>\n",
       "    .dataframe tbody tr th:only-of-type {\n",
       "        vertical-align: middle;\n",
       "    }\n",
       "\n",
       "    .dataframe tbody tr th {\n",
       "        vertical-align: top;\n",
       "    }\n",
       "\n",
       "    .dataframe thead th {\n",
       "        text-align: right;\n",
       "    }\n",
       "</style>\n",
       "<table border=\"1\" class=\"dataframe\">\n",
       "  <thead>\n",
       "    <tr style=\"text-align: right;\">\n",
       "      <th></th>\n",
       "      <th>Data Moments</th>\n",
       "      <th>Model Moments</th>\n",
       "    </tr>\n",
       "  </thead>\n",
       "  <tbody>\n",
       "    <tr>\n",
       "      <th>Percent &lt; $75K</th>\n",
       "      <td>0.3</td>\n",
       "      <td>0.3</td>\n",
       "    </tr>\n",
       "    <tr>\n",
       "      <th>Percent \\$75K - \\$100K</th>\n",
       "      <td>0.5</td>\n",
       "      <td>0.5</td>\n",
       "    </tr>\n",
       "    <tr>\n",
       "      <th>Percent &gt;= $100K</th>\n",
       "      <td>0.2</td>\n",
       "      <td>0.2</td>\n",
       "    </tr>\n",
       "  </tbody>\n",
       "</table>\n",
       "</div>"
      ],
      "text/plain": [
       "                        Data Moments  Model Moments\n",
       "Percent < $75K                   0.3            0.3\n",
       "Percent \\$75K - \\$100K           0.5            0.5\n",
       "Percent >= $100K                 0.2            0.2"
      ]
     },
     "execution_count": 23,
     "metadata": {},
     "output_type": "execute_result"
    }
   ],
   "source": [
    "bpct_1_dat, bpct_2_dat, bpct_3_dat = data_moments3(income)\n",
    "bpct_1_mod, bpct_2_mod, bpct_3_mod = model_moments3(mu_GMM_3, sig_GMM_3, 0.0, 150000.0)\n",
    "data_mm = [bpct_1_dat, bpct_2_dat, bpct_3_dat]\n",
    "model_mm = [bpct_1_mod, bpct_2_mod, bpct_3_mod]\n",
    "ind = ['Percent < $75K','Percent \\$75K - \\$100K','Percent >= $100K']\n",
    "data = {'Data Moments':data_mm, 'Model Moments': model_mm}\n",
    "pd.DataFrame(data, index = ind)"
   ]
  },
  {
   "cell_type": "code",
   "execution_count": 24,
   "metadata": {},
   "outputs": [
    {
     "name": "stderr",
     "output_type": "stream",
     "text": [
      "/anaconda3/lib/python3.7/site-packages/ipykernel_launcher.py:14: RuntimeWarning: divide by zero encountered in true_divide\n",
      "  \n",
      "/anaconda3/lib/python3.7/site-packages/ipykernel_launcher.py:15: RuntimeWarning: divide by zero encountered in log\n",
      "  from ipykernel import kernelapp as app\n",
      "/anaconda3/lib/python3.7/site-packages/ipykernel_launcher.py:15: RuntimeWarning: invalid value encountered in multiply\n",
      "  from ipykernel import kernelapp as app\n"
     ]
    },
    {
     "data": {
      "image/png": "[encoded data removed]",
      "text/plain": [
       "<Figure size 432x288 with 1 Axes>"
      ]
     },
     "metadata": {
      "needs_background": "light"
     },
     "output_type": "display_data"
    },
    {
     "name": "stdout",
     "output_type": "stream",
     "text": [
      "We find that there are almost no differences among these three estimates.\n"
     ]
    }
   ],
   "source": [
    "## Plot the histogram of data\n",
    "\n",
    "count, bins, ignored = plt.hist(income, 30, density=True,\n",
    "                                edgecolor='k')\n",
    "plt.title('Annual Income of MACSS 2018-2020 graduates', fontsize=16)\n",
    "plt.xlabel(r'Annual Income')\n",
    "plt.ylabel(r'Percent')\n",
    "plt.xlim([0, 150000])  \n",
    "\n",
    "# Plot the estimated GMM PDF\n",
    "plt.plot(dist_pts, trunc_lognorm_pdf(dist_pts, mu_GMM1, sig_GMM1, 0.0, 150000),\n",
    "         linewidth=2, color='k', label='1: $\\mu_{GMM1}$,$\\sigma_{GMM1}$')\n",
    "\n",
    "plt.plot(dist_pts, trunc_lognorm_pdf(dist_pts, mu_GMM2, sig_GMM2, 0.0, 150000),\n",
    "         linewidth=2, color='b', label='2: $\\mu_{GMM2}$,$\\sigma_{GMM2}$')\n",
    "\n",
    "plt.plot(dist_pts, trunc_lognorm_pdf(dist_pts, mu_GMM_3, sig_GMM_3, 0.0, 150000),\n",
    "         linewidth=2, color='r', label='3: $\\mu_{GMM3}$,$\\sigma_{GMM3}$')\n",
    "\n",
    "plt.legend(loc='upper left')\n",
    "\n",
    "plt.show()\n",
    "\n",
    "print('We find that there are almost no differences among these three estimates.')\n"
   ]
  },
  {
   "cell_type": "code",
   "execution_count": 25,
   "metadata": {},
   "outputs": [],
   "source": [
    "#Q1e"
   ]
  },
  {
   "cell_type": "code",
   "execution_count": 26,
   "metadata": {},
   "outputs": [],
   "source": [
    "## Define R by N matrix of errors\n",
    "\n",
    "def get_Err_mat3(pts, mu, sigma, cut_lb, cut_ub, simple=False):\n",
    "    \n",
    "    R = 3\n",
    "    N = len(pts)\n",
    "    Err_mat = np.zeros((R, N))\n",
    "    pct_1_mod, pct_2_mod, pct_3_mod = \\\n",
    "        model_moments3(mu, sigma, cut_lb, cut_ub)\n",
    "    if simple:\n",
    "        pts_in_grp1 = pts < 75000\n",
    "        Err_mat[0, :] = pts_in_grp1 - pct_1_mod\n",
    "        pts_in_grp2 = (pts >= 75000) & (pts < 100000)\n",
    "        Err_mat[1, :] = pts_in_grp2 - pct_2_mod\n",
    "        pts_in_grp3 = pts >= 100000\n",
    "        Err_mat[2, :] = pts_in_grp3 - pct_3_mod\n",
    "\n",
    "    else:\n",
    "        pts_in_grp1 = pts < 75000\n",
    "        Err_mat[0, :] = (pts_in_grp1 - pct_1_mod) / pct_1_mod\n",
    "        pts_in_grp2 = (pts >= 75000) & (pts < 100000)\n",
    "        Err_mat[1, :] = (pts_in_grp2 - pct_2_mod) / pct_2_mod\n",
    "        pts_in_grp3 = pts >= 100000\n",
    "        Err_mat[2, :] = (pts_in_grp3 - pct_3_mod) / pct_3_mod\n",
    "    \n",
    "    return Err_mat"
   ]
  },
  {
   "cell_type": "code",
   "execution_count": 27,
   "metadata": {},
   "outputs": [
    {
     "name": "stdout",
     "output_type": "stream",
     "text": [
      "VCV2_3:\n",
      " [[ 2.33333328 -0.99999998 -1.00000004]\n",
      " [-0.99999998  0.99999998 -1.00000003]\n",
      " [-1.00000004 -1.00000003  4.00000037]]\n",
      "W_hat2_3:\n",
      " [[ 0.25761773 -0.14958449 -0.01246537]\n",
      " [-0.14958449  0.11911357 -0.07340719]\n",
      " [-0.01246537 -0.07340719  0.20221605]]\n"
     ]
    }
   ],
   "source": [
    "Err_mat3 = get_Err_mat3(income, mu_GMM_3, sig_GMM_3, 0.0, 150000.0, False)\n",
    "VCV2_3 = (1 / income.shape[0]) * (Err_mat3 @ Err_mat3.T)\n",
    "print('VCV2_3:\\n', VCV2_3)\n",
    "W_hat2_3 = lin.pinv(VCV2_3)\n",
    "print('W_hat2_3:\\n', W_hat2_3)"
   ]
  },
  {
   "cell_type": "code",
   "execution_count": 28,
   "metadata": {},
   "outputs": [
    {
     "name": "stdout",
     "output_type": "stream",
     "text": [
      "mu_GMM2_3 = 11.33670501031385  sig_GMM2_3 = 0.21151340306050406\n",
      "Error vector: [ 5.94588176e-07  3.34157490e-07 -1.72727599e-06]\n",
      "The value of GMM criterion function: 7.585875515807582e-13\n"
     ]
    }
   ],
   "source": [
    "gmm_args = (income, 0.0, 150000.0, W_hat2_3)\n",
    "results2_3 = opt.minimize(criterion3, params_init, args=(gmm_args),\n",
    "                          method='L-BFGS-B', bounds=((1e-10, None), (1e-10, None)))\n",
    "mu_GMM2_3, sig_GMM2_3 = results2_3.x\n",
    "print('mu_GMM2_3 =', mu_GMM2_3, ' sig_GMM2_3 =', sig_GMM2_3)\n",
    "err2_3 = err_vec3(income, mu_GMM2_3, sig_GMM2_3, 0.0, 150000.0, False).reshape(3,)\n",
    "print('Error vector:', err2_3)\n",
    "print('The value of GMM criterion function:',results2_3.fun[0,0])"
   ]
  },
  {
   "cell_type": "code",
   "execution_count": 29,
   "metadata": {},
   "outputs": [
    {
     "data": {
      "text/html": [
       "<div>\n",
       "<style scoped>\n",
       "    .dataframe tbody tr th:only-of-type {\n",
       "        vertical-align: middle;\n",
       "    }\n",
       "\n",
       "    .dataframe tbody tr th {\n",
       "        vertical-align: top;\n",
       "    }\n",
       "\n",
       "    .dataframe thead th {\n",
       "        text-align: right;\n",
       "    }\n",
       "</style>\n",
       "<table border=\"1\" class=\"dataframe\">\n",
       "  <thead>\n",
       "    <tr style=\"text-align: right;\">\n",
       "      <th></th>\n",
       "      <th>Data Moments</th>\n",
       "      <th>Model Moments</th>\n",
       "    </tr>\n",
       "  </thead>\n",
       "  <tbody>\n",
       "    <tr>\n",
       "      <th>Percent &lt; $75K</th>\n",
       "      <td>0.3</td>\n",
       "      <td>0.3</td>\n",
       "    </tr>\n",
       "    <tr>\n",
       "      <th>Percent \\$75K - \\$100K</th>\n",
       "      <td>0.5</td>\n",
       "      <td>0.5</td>\n",
       "    </tr>\n",
       "    <tr>\n",
       "      <th>Percent &gt;= $100K</th>\n",
       "      <td>0.2</td>\n",
       "      <td>0.2</td>\n",
       "    </tr>\n",
       "  </tbody>\n",
       "</table>\n",
       "</div>"
      ],
      "text/plain": [
       "                        Data Moments  Model Moments\n",
       "Percent < $75K                   0.3            0.3\n",
       "Percent \\$75K - \\$100K           0.5            0.5\n",
       "Percent >= $100K                 0.2            0.2"
      ]
     },
     "execution_count": 29,
     "metadata": {},
     "output_type": "execute_result"
    }
   ],
   "source": [
    "bpct_1_mod, bpct_2_mod, bpct_3_mod = model_moments3(mu_GMM2_3, sig_GMM2_3, 0.0, 150000.0)\n",
    "model_mm = [bpct_1_mod, bpct_2_mod, bpct_3_mod]\n",
    "ind = ['Percent < $75K','Percent \\$75K - \\$100K','Percent >= $100K']\n",
    "data = {'Data Moments':data_mm, 'Model Moments': model_mm}\n",
    "pd.DataFrame(data, index = ind)"
   ]
  },
  {
   "cell_type": "code",
   "execution_count": 30,
   "metadata": {},
   "outputs": [
    {
     "name": "stderr",
     "output_type": "stream",
     "text": [
      "/anaconda3/lib/python3.7/site-packages/ipykernel_launcher.py:14: RuntimeWarning: divide by zero encountered in true_divide\n",
      "  \n",
      "/anaconda3/lib/python3.7/site-packages/ipykernel_launcher.py:15: RuntimeWarning: divide by zero encountered in log\n",
      "  from ipykernel import kernelapp as app\n",
      "/anaconda3/lib/python3.7/site-packages/ipykernel_launcher.py:15: RuntimeWarning: invalid value encountered in multiply\n",
      "  from ipykernel import kernelapp as app\n"
     ]
    },
    {
     "data": {
      "image/png": "[encoded data removed]",
      "text/plain": [
       "<Figure size 432x288 with 1 Axes>"
      ]
     },
     "metadata": {
      "needs_background": "light"
     },
     "output_type": "display_data"
    }
   ],
   "source": [
    "## Plot the histogram of data\n",
    "\n",
    "count, bins, ignored = plt.hist(income, 30, density=True,\n",
    "                                edgecolor='k')\n",
    "plt.title('Annual Income of MACSS 2018-2020 graduates', fontsize=16)\n",
    "plt.xlabel(r'Annual Income')\n",
    "plt.ylabel(r'Percent')\n",
    "plt.xlim([0, 150000])  \n",
    "\n",
    "# Plot the estimated GMM PDF\n",
    "plt.plot(dist_pts, trunc_lognorm_pdf(dist_pts, mu_GMM_3, sig_GMM_3, 0.0, 150000),\n",
    "         linewidth=2, color='g', label='3: $\\mu_{GMM3}$,$\\sigma_{GMM3}$')\n",
    "\n",
    "plt.plot(dist_pts, trunc_lognorm_pdf(dist_pts, mu_GMM2_3, sig_GMM2_3, 0.0, 150000),\n",
    "         linewidth=2, color='r', label='4: $\\mu_{GMM2_3}$,$\\sigma_{GMM2_3}$')\n",
    "plt.legend(loc='upper left')\n",
    "plt.show()"
   ]
  },
  {
   "cell_type": "code",
   "execution_count": 31,
   "metadata": {},
   "outputs": [],
   "source": [
    "#Q1f"
   ]
  },
  {
   "cell_type": "code",
   "execution_count": 32,
   "metadata": {},
   "outputs": [
    {
     "data": {
      "text/html": [
       "<div>\n",
       "<style scoped>\n",
       "    .dataframe tbody tr th:only-of-type {\n",
       "        vertical-align: middle;\n",
       "    }\n",
       "\n",
       "    .dataframe tbody tr th {\n",
       "        vertical-align: top;\n",
       "    }\n",
       "\n",
       "    .dataframe thead th {\n",
       "        text-align: right;\n",
       "    }\n",
       "</style>\n",
       "<table border=\"1\" class=\"dataframe\">\n",
       "  <thead>\n",
       "    <tr style=\"text-align: right;\">\n",
       "      <th></th>\n",
       "      <th>$\\mu$</th>\n",
       "      <th>$\\sigma$</th>\n",
       "      <th>GMM Value</th>\n",
       "    </tr>\n",
       "  </thead>\n",
       "  <tbody>\n",
       "    <tr>\n",
       "      <th>0</th>\n",
       "      <td>11.333600</td>\n",
       "      <td>0.213255</td>\n",
       "      <td>6.399283e-16</td>\n",
       "    </tr>\n",
       "    <tr>\n",
       "      <th>1</th>\n",
       "      <td>11.333600</td>\n",
       "      <td>0.213255</td>\n",
       "      <td>4.285285e-16</td>\n",
       "    </tr>\n",
       "    <tr>\n",
       "      <th>2</th>\n",
       "      <td>11.336705</td>\n",
       "      <td>0.211514</td>\n",
       "      <td>2.443700e-15</td>\n",
       "    </tr>\n",
       "    <tr>\n",
       "      <th>3</th>\n",
       "      <td>11.336705</td>\n",
       "      <td>0.211513</td>\n",
       "      <td>7.585876e-13</td>\n",
       "    </tr>\n",
       "  </tbody>\n",
       "</table>\n",
       "</div>"
      ],
      "text/plain": [
       "       $\\mu$  $\\sigma$     GMM Value\n",
       "0  11.333600  0.213255  6.399283e-16\n",
       "1  11.333600  0.213255  4.285285e-16\n",
       "2  11.336705  0.211514  2.443700e-15\n",
       "3  11.336705  0.211513  7.585876e-13"
      ]
     },
     "execution_count": 32,
     "metadata": {},
     "output_type": "execute_result"
    }
   ],
   "source": [
    "mu = [mu_GMM1, mu_GMM2, mu_GMM_3, mu_GMM2_3]\n",
    "sigma = [sig_GMM1, sig_GMM2, sig_GMM_3, sig_GMM2_3]\n",
    "gmm = [results.fun[0,0], results_2.fun[0,0], results_3.fun[0,0], results2_3.fun[0,0]]\n",
    "data_2 = {'$\\mu$':mu, '$\\sigma$':sigma, 'GMM Value':gmm}\n",
    "pd.DataFrame(data_2)\n"
   ]
  },
  {
   "cell_type": "code",
   "execution_count": 33,
   "metadata": {},
   "outputs": [
    {
     "name": "stdout",
     "output_type": "stream",
     "text": [
      "The best fitting model is the one with lowest GMM function value, which is the model from #Q1c. This model uses two moments with two steps optimal weighting matrix. \n"
     ]
    }
   ],
   "source": [
    "print('The best fitting model is the one with lowest GMM function value, which is the model from #Q1c. This model uses two moments with two steps optimal weighting matrix. ')"
   ]
  },
  {
   "cell_type": "code",
   "execution_count": 34,
   "metadata": {},
   "outputs": [],
   "source": [
    "#Q2"
   ]
  },
  {
   "cell_type": "code",
   "execution_count": 35,
   "metadata": {},
   "outputs": [],
   "source": [
    "sick = pd.read_csv('/Users/liujingyang/Desktop/sick.txt')"
   ]
  },
  {
   "cell_type": "code",
   "execution_count": 36,
   "metadata": {},
   "outputs": [],
   "source": [
    "## Define moment errors\n",
    "\n",
    "def err(sick, b0, b1, b2, b3):\n",
    "    y_hat = b0 + b1 * sick['age'] + b2 * sick['children'] + b3 * sick['avgtemp_winter']\n",
    "    e = y_hat - sick['sick']\n",
    "    e = np.array(e)\n",
    "    return e"
   ]
  },
  {
   "cell_type": "code",
   "execution_count": 37,
   "metadata": {},
   "outputs": [],
   "source": [
    "## Define GMM sum of squared moment errors criterion function value\n",
    "\n",
    "def criterion(params, *args):\n",
    "    b0, b1, b2, b3 = params\n",
    "    sick, W = args\n",
    "    e = err(sick, b0, b1, b2, b3)\n",
    "    crit_val = e.T @ W @ e\n",
    "    \n",
    "    return crit_val"
   ]
  },
  {
   "cell_type": "code",
   "execution_count": 38,
   "metadata": {},
   "outputs": [],
   "source": [
    "params_init = np.array([0.0, 0.0, 0.0, 0.0])\n",
    "W = np.eye(sick.shape[0])\n",
    "gmm_args = (sick, W)\n",
    "results_sick = opt.minimize(criterion, params_init, args=(gmm_args), tol=1e-14, method='L-BFGS-B')\n",
    "b0 = results_sick.x[0]\n",
    "b1 = results_sick.x[1]\n",
    "b2 = results_sick.x[2]\n",
    "b3 = results_sick.x[3]"
   ]
  },
  {
   "cell_type": "code",
   "execution_count": 39,
   "metadata": {},
   "outputs": [
    {
     "name": "stdout",
     "output_type": "stream",
     "text": [
      "b0 estimation = 0.2516447083216073\n",
      "b1 estimation = 0.012933458390041739\n",
      "b2 estimation = 0.4005011085237505\n",
      "b3 estimation = -0.009991699351417332\n",
      "GMM criterion function Value = 0.0018212898067556803\n"
     ]
    }
   ],
   "source": [
    "print('b0 estimation =', b0)\n",
    "print('b1 estimation =', b1)\n",
    "print('b2 estimation =', b2)\n",
    "print('b3 estimation =', b3)\n",
    "print('GMM criterion function Value =', results_sick.fun)"
   ]
  },
  {
   "cell_type": "code",
   "execution_count": null,
   "metadata": {},
   "outputs": [],
   "source": []
  }
 ],
 "metadata": {
  "kernelspec": {
   "display_name": "Python 3",
   "language": "python",
   "name": "python3"
  },
  "language_info": {
   "codemirror_mode": {
    "name": "ipython",
    "version": 3
   },
   "file_extension": ".py",
   "mimetype": "text/x-python",
   "name": "python",
   "nbconvert_exporter": "python",
   "pygments_lexer": "ipython3",
   "version": "3.7.0"
  }
 },
 "nbformat": 4,
 "nbformat_minor": 2
}
