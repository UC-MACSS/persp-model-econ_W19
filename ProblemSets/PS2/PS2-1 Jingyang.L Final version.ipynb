{
 "cells": [
  {
   "cell_type": "code",
   "execution_count": 1,
   "metadata": {},
   "outputs": [],
   "source": [
    "# Question1"
   ]
  },
  {
   "cell_type": "code",
   "execution_count": 1,
   "metadata": {},
   "outputs": [],
   "source": [
    "from sympy import *\n",
    "import numpy as np"
   ]
  },
  {
   "cell_type": "code",
   "execution_count": 2,
   "metadata": {},
   "outputs": [
    {
     "data": {
      "text/plain": [
       "(-log(sin(x) + 1)*sin(x)*cos(cos(x)) + sin(cos(x))*cos(x)/(sin(x) + 1))*(sin(x) + 1)**sin(cos(x))"
      ]
     },
     "execution_count": 2,
     "metadata": {},
     "output_type": "execute_result"
    }
   ],
   "source": [
    "x = symbols('x')\n",
    "fx = (sin(x)+1)**sin(cos(x))\n",
    "diff(fx,x)"
   ]
  },
  {
   "cell_type": "code",
   "execution_count": 3,
   "metadata": {},
   "outputs": [],
   "source": [
    "def function(x):\n",
    "    value = (sin(x)+1)**sin(cos(x))\n",
    "    return value"
   ]
  },
  {
   "cell_type": "code",
   "execution_count": 4,
   "metadata": {},
   "outputs": [],
   "source": [
    "def function_diff(x):\n",
    "    function_diff = (-log(sin(x) + 1)*sin(x)*cos(cos(x)) + sin(cos(x))*cos(x)/(sin(x) + 1))*(sin(x) + 1)**sin(cos(x))\n",
    "    return function_diff"
   ]
  },
  {
   "cell_type": "code",
   "execution_count": 5,
   "metadata": {},
   "outputs": [],
   "source": [
    "cvec = np.linspace(-np.pi, np.pi, 100)"
   ]
  },
  {
   "cell_type": "code",
   "execution_count": 6,
   "metadata": {},
   "outputs": [
    {
     "data": {
      "text/plain": [
       "array([0.841470984807897, 0.943798032843716, 1.05427681552789,\n",
       "       1.17285678196274, 1.29888086806545, 1.43082713649145,\n",
       "       1.56598720295817, 1.70008384236199, 1.82684325900865,\n",
       "       1.93755812882941, 2.02070673619978, 2.06173048211499,\n",
       "       2.04311226928724, 1.94493176278597, 1.74608332310313,\n",
       "       1.42630506793381, 0.969057081947802, 0.365083192467364,\n",
       "       -0.383809435881878, -1.26159856759753, -2.23682510629926,\n",
       "       -3.26532643172784, -4.30122565918341, -5.33297576581988,\n",
       "       -6.58584727992344, -6.05155700456810, -2.36437594096625,\n",
       "       -1.31038408162271, -0.789283849500052, -0.478179653822068,\n",
       "       -0.269820546454434, -0.117787887641310, 0.00116013678213198,\n",
       "       0.0997735133548611, 0.185458045141130, 0.262640905298638,\n",
       "       0.333962827527350, 0.400926870631798, 0.464278021009520,\n",
       "       0.524242568114234, 0.580690915854381, 0.633255823379840,\n",
       "       0.681421840894299, 0.724593272537962, 0.762143886697379,\n",
       "       0.793450052063639, 0.817908975288324, 0.834944543695998,\n",
       "       0.844004399549098, 0.844552889334407, 0.836065163658447,\n",
       "       0.818027782691789, 0.789950630121920, 0.751393740433114,\n",
       "       0.702010830415373, 0.641608969798406, 0.570221062396420,\n",
       "       0.488184864432828, 0.396219487329300, 0.295488189440756,\n",
       "       0.187635309417008, 0.0747859700765327, -0.0404999480678856,\n",
       "       -0.155323079156476, -0.266585966427566, -0.371170137184481,\n",
       "       -0.466131785621268, -0.548894514794767, -0.617416451044850,\n",
       "       -0.670311769921541, -0.706912911879458, -0.727268325563843,\n",
       "       -0.732079716014925, -0.722590673532655, -0.700443793938255,\n",
       "       -0.667525280465378, -0.625814667589260, -0.577253517778551,\n",
       "       -0.523641857348418, -0.466565893351272, -0.407356092647546,\n",
       "       -0.347071524712422, -0.286504604602123, -0.226199862762271,\n",
       "       -0.166480791821551, -0.107479812066652, -0.0491676338585709,\n",
       "       0.00862046098161618, 0.0661627897331402, 0.123834355049749,\n",
       "       0.182094608348107, 0.241479123152421, 0.302594007272022,\n",
       "       0.366111547086420, 0.432765252387808, 0.503342099325551,\n",
       "       0.578669296829745, 0.659592277316665, 0.746939794734480,\n",
       "       0.841470984807896], dtype=object)"
      ]
     },
     "execution_count": 6,
     "metadata": {},
     "output_type": "execute_result"
    }
   ],
   "source": [
    "np.array([function_diff(x) for x in cvec])"
   ]
  },
  {
   "cell_type": "code",
   "execution_count": 7,
   "metadata": {},
   "outputs": [],
   "source": [
    "from matplotlib import pyplot as plt\n",
    "ax = plt.gca()\n",
    "ax.spines[\"bottom\"].set_position(\"zero\")"
   ]
  },
  {
   "cell_type": "code",
   "execution_count": 8,
   "metadata": {},
   "outputs": [],
   "source": [
    "y = np.array([function(x) for x in cvec])\n",
    "functiondiff = np.array([function_diff(x) for x in cvec])\n",
    "#for every x in cvec, get its function_diff, then composed of an array of function_diff."
   ]
  },
  {
   "cell_type": "code",
   "execution_count": 9,
   "metadata": {},
   "outputs": [
    {
     "data": {
      "text/plain": [
       "[<matplotlib.lines.Line2D at 0x121668d30>]"
      ]
     },
     "execution_count": 9,
     "metadata": {},
     "output_type": "execute_result"
    },
    {
     "data": {
      "image/png": "[encoded data removed]",
      "text/plain": [
       "<Figure size 432x288 with 1 Axes>"
      ]
     },
     "metadata": {
      "needs_background": "light"
     },
     "output_type": "display_data"
    }
   ],
   "source": [
    "plt.plot(cvec,y)\n",
    "plt.plot(cvec,functiondiff)"
   ]
  },
  {
   "cell_type": "code",
   "execution_count": 10,
   "metadata": {},
   "outputs": [],
   "source": [
    "#Question2"
   ]
  },
  {
   "cell_type": "code",
   "execution_count": 11,
   "metadata": {},
   "outputs": [],
   "source": [
    "def forward_1(f, x, h):\n",
    "    forward_value1 = (f(x + h) - f(x))/h\n",
    "    return forward_value1\n",
    "\n",
    "def forward_2(f, x, h):\n",
    "    forward_value2 = (-3*f(x)+4*f(x+h)-f(x+2*h))/(2*h)\n",
    "    return forward_value2 \n",
    "\n",
    "def backward_1(f, x, h):\n",
    "    backward_value1 = (f(x)-f(x-h))/h\n",
    "    return backward_value1 \n",
    "\n",
    "def backward_2(f, x, h):\n",
    "    backward_value2 = (3*f(x)-4*f(x-h)+f(x-2*h))/(2*h)\n",
    "    return backward_value2 \n",
    "\n",
    "def centered_1(f, x, h):\n",
    "    centered_value1 = (f(x+h)-f(x-h))/(2*h)\n",
    "    return centered_value1 \n",
    "\n",
    "def centered_2(f, x, h):\n",
    "    centered_value2 = (f(x-2*h)-8*f(x-h)+8*f(x+h)-f(x+2*h))/(12*h)\n",
    "    return centered_value2 \n"
   ]
  },
  {
   "cell_type": "code",
   "execution_count": 12,
   "metadata": {},
   "outputs": [],
   "source": [
    "def cvec_array(f, x, h):\n",
    "    y_array = np.array([f(function, x, h) for x in cvec])\n",
    "    return y_array\n",
    "#for every x in cvec, get its f-value, then composed of an array of f-values."
   ]
  },
  {
   "cell_type": "code",
   "execution_count": 13,
   "metadata": {},
   "outputs": [],
   "source": [
    "h = 10**(-2)\n",
    "forward_prime1 = cvec_array(forward_1, x, h)\n",
    "forward_prime2 = cvec_array(forward_2, x, h)\n",
    "backward_prime1 = cvec_array(backward_1, x, h)\n",
    "backward_prime2 = cvec_array(backward_2, x, h)\n",
    "centered_prime1 = cvec_array(centered_1, x, h)\n",
    "centered_prime2 = cvec_array(centered_2, x, h)\n",
    "#these are not functions, needn't be defined."
   ]
  },
  {
   "cell_type": "code",
   "execution_count": 14,
   "metadata": {},
   "outputs": [
    {
     "data": {
      "image/png": "[encoded data removed]",
      "text/plain": [
       "<Figure size 432x288 with 1 Axes>"
      ]
     },
     "metadata": {
      "needs_background": "light"
     },
     "output_type": "display_data"
    }
   ],
   "source": [
    "from matplotlib import pyplot as plt\n",
    "ax = plt.gca()\n",
    "ax.spines[\"bottom\"].set_position(\"zero\")"
   ]
  },
  {
   "cell_type": "code",
   "execution_count": 15,
   "metadata": {},
   "outputs": [],
   "source": [
    "f_prime = np.array([function_diff(x) for x in cvec])"
   ]
  },
  {
   "cell_type": "code",
   "execution_count": 16,
   "metadata": {},
   "outputs": [
    {
     "data": {
      "text/plain": [
       "<matplotlib.legend.Legend at 0x121af10f0>"
      ]
     },
     "execution_count": 16,
     "metadata": {},
     "output_type": "execute_result"
    },
    {
     "data": {
      "image/png": "[encoded data removed]",
      "text/plain": [
       "<Figure size 432x288 with 1 Axes>"
      ]
     },
     "metadata": {
      "needs_background": "light"
     },
     "output_type": "display_data"
    }
   ],
   "source": [
    "plt.plot(cvec, f_prime)\n",
    "plt.plot(cvec, forward_prime1)\n",
    "plt.plot(cvec, forward_prime2)\n",
    "plt.plot(cvec, backward_prime1)\n",
    "plt.plot(cvec, backward_prime2)\n",
    "plt.plot(cvec, centered_prime1)\n",
    "plt.plot(cvec, centered_prime2)\n",
    "plt.legend(['sympy','for1', 'for2', 'back1', 'back2', 'cen1', 'cen2'],  loc= 'lower right')"
   ]
  },
  {
   "cell_type": "code",
   "execution_count": 17,
   "metadata": {},
   "outputs": [],
   "source": [
    "#Question3"
   ]
  },
  {
   "cell_type": "code",
   "execution_count": 18,
   "metadata": {},
   "outputs": [],
   "source": [
    "x0 = 2\n",
    "fx0 = function_diff(x0)\n",
    "hvec = np.logspace(-8, 0, 9)"
   ]
  },
  {
   "cell_type": "code",
   "execution_count": 19,
   "metadata": {},
   "outputs": [],
   "source": [
    "def error_array(f, x,  hvec):\n",
    "    y_array = np.array([f(function, x, hi) for hi in hvec])\n",
    "    abs_err = abs(y_array - fx0)\n",
    "    return abs_err"
   ]
  },
  {
   "cell_type": "code",
   "execution_count": 20,
   "metadata": {},
   "outputs": [],
   "source": [
    "forward_error1 = error_array(forward_1, x0, hvec)\n",
    "forward_error2 = error_array(forward_2, x0, hvec)\n",
    "backward_error1 = error_array(backward_1, x0, hvec)\n",
    "backward_error2 = error_array(backward_2, x0, hvec)\n",
    "centered_error1 = error_array(centered_1, x0, hvec)\n",
    "centered_error2 = error_array(centered_2, x0, hvec)"
   ]
  },
  {
   "cell_type": "code",
   "execution_count": 21,
   "metadata": {},
   "outputs": [
    {
     "data": {
      "image/png": "[encoded data removed]",
      "text/plain": [
       "<Figure size 432x288 with 1 Axes>"
      ]
     },
     "metadata": {
      "needs_background": "light"
     },
     "output_type": "display_data"
    }
   ],
   "source": [
    "plt.loglog(hvec, forward_error1, marker = 'o')\n",
    "plt.loglog(hvec, forward_error2, marker = 'o')\n",
    "plt.loglog(hvec, backward_error1, marker = 'o')\n",
    "plt.loglog(hvec, backward_error2, marker = 'o')\n",
    "plt.loglog(hvec, centered_error1, marker = 'o')\n",
    "plt.loglog(hvec, centered_error2, marker = 'o')\n",
    "plt.legend(['for_1', 'for_2', 'back_1', 'back_2', 'cen_1', 'cen_2'], loc='upper left')\n",
    "plt.show()"
   ]
  },
  {
   "cell_type": "code",
   "execution_count": 22,
   "metadata": {},
   "outputs": [],
   "source": [
    "#Question4"
   ]
  },
  {
   "cell_type": "code",
   "execution_count": 24,
   "metadata": {},
   "outputs": [],
   "source": [
    "data = np.load('plane.npy')"
   ]
  },
  {
   "cell_type": "code",
   "execution_count": 25,
   "metadata": {},
   "outputs": [],
   "source": [
    "a=500"
   ]
  },
  {
   "cell_type": "code",
   "execution_count": 26,
   "metadata": {},
   "outputs": [
    {
     "data": {
      "text/plain": [
       "array([[ 7.  , 56.25, 67.54],\n",
       "       [ 8.  , 55.53, 66.57],\n",
       "       [ 9.  , 54.8 , 65.59],\n",
       "       [10.  , 54.06, 64.59],\n",
       "       [11.  , 53.34, 63.62],\n",
       "       [12.  , 52.69, 62.74],\n",
       "       [13.  , 51.94, 61.72],\n",
       "       [14.  , 51.28, 60.82]])"
      ]
     },
     "execution_count": 26,
     "metadata": {},
     "output_type": "execute_result"
    }
   ],
   "source": [
    "data"
   ]
  },
  {
   "cell_type": "code",
   "execution_count": 27,
   "metadata": {},
   "outputs": [
    {
     "data": {
      "text/plain": [
       "array([ 7.  , 56.25, 67.54])"
      ]
     },
     "execution_count": 27,
     "metadata": {},
     "output_type": "execute_result"
    }
   ],
   "source": [
    "data[0]"
   ]
  },
  {
   "cell_type": "code",
   "execution_count": 28,
   "metadata": {},
   "outputs": [
    {
     "data": {
      "text/plain": [
       "10.0"
      ]
     },
     "execution_count": 28,
     "metadata": {},
     "output_type": "execute_result"
    }
   ],
   "source": [
    "data[3][0]\n"
   ]
  },
  {
   "cell_type": "code",
   "execution_count": 29,
   "metadata": {},
   "outputs": [],
   "source": [
    "def alpha_radian(t):\n",
    "    alpha1 = data[t-7][1]\n",
    "    alpha2 = alpha1/180*(np.pi)\n",
    "    return alpha2"
   ]
  },
  {
   "cell_type": "code",
   "execution_count": 30,
   "metadata": {},
   "outputs": [],
   "source": [
    "def beta_radian(t):\n",
    "    beta1 = data[t-7][2]\n",
    "    beta2 = beta1/180*(np.pi)\n",
    "    return beta2"
   ]
  },
  {
   "cell_type": "code",
   "execution_count": 31,
   "metadata": {},
   "outputs": [],
   "source": [
    "def xcorr(alpha,beta):\n",
    "    x = a*tan(beta)/(tan(beta)-tan(alpha))\n",
    "    return x"
   ]
  },
  {
   "cell_type": "code",
   "execution_count": 32,
   "metadata": {},
   "outputs": [],
   "source": [
    "def ycorr(alpha,beta):\n",
    "    y = a*tan(beta)*tan(alpha)/(tan(beta)-tan(alpha))\n",
    "    return y"
   ]
  },
  {
   "cell_type": "code",
   "execution_count": 33,
   "metadata": {},
   "outputs": [],
   "source": [
    "def xprime1(t):\n",
    "    x1 = xcorr(alpha_radian(t+1), beta_radian(t+1))\n",
    "    x2 = xcorr(alpha_radian(t), beta_radian(t))\n",
    "    prime_x = x1-x2\n",
    "    return prime_x"
   ]
  },
  {
   "cell_type": "code",
   "execution_count": 34,
   "metadata": {},
   "outputs": [],
   "source": [
    "def yprime1(t):\n",
    "    y1 = ycorr(alpha_radian(t+1), beta_radian(t+1))\n",
    "    y2 = ycorr(alpha_radian(t), beta_radian(t))\n",
    "    prime_y = y1-y2\n",
    "    return prime_y"
   ]
  },
  {
   "cell_type": "code",
   "execution_count": 35,
   "metadata": {},
   "outputs": [],
   "source": [
    "def xprime2(t):\n",
    "    x1 = xcorr(alpha_radian(t+1), beta_radian(t+1))\n",
    "    x2 = xcorr(alpha_radian(t-1), beta_radian(t-1))\n",
    "    prime_x = (x1-x2)/2\n",
    "    return prime_x"
   ]
  },
  {
   "cell_type": "code",
   "execution_count": 36,
   "metadata": {},
   "outputs": [],
   "source": [
    "def yprime2(t):\n",
    "    y1 = ycorr(alpha_radian(t+1), beta_radian(t+1))\n",
    "    y2 = ycorr(alpha_radian(t-1), beta_radian(t-1))\n",
    "    prime_y = (y1-y2)/2\n",
    "    return prime_y"
   ]
  },
  {
   "cell_type": "code",
   "execution_count": 37,
   "metadata": {},
   "outputs": [],
   "source": [
    "def xprime3(t):\n",
    "    x1 = xcorr(alpha_radian(t), beta_radian(t))\n",
    "    x2 = xcorr(alpha_radian(t-1), beta_radian(t-1))\n",
    "    prime_x = x1-x2\n",
    "    return prime_x"
   ]
  },
  {
   "cell_type": "code",
   "execution_count": 38,
   "metadata": {},
   "outputs": [],
   "source": [
    "def yprime3(t):\n",
    "    y1 = ycorr(alpha_radian(t), beta_radian(t))\n",
    "    y2 = ycorr(alpha_radian(t-1), beta_radian(t-1))\n",
    "    prime_y = y1-y2\n",
    "    return prime_y"
   ]
  },
  {
   "cell_type": "code",
   "execution_count": 39,
   "metadata": {},
   "outputs": [],
   "source": [
    "def speed1(t):\n",
    "    prime = (xprime1(t)**(2) + yprime1(t)**2)**(0.5)\n",
    "    return prime"
   ]
  },
  {
   "cell_type": "code",
   "execution_count": 40,
   "metadata": {},
   "outputs": [],
   "source": [
    "def speed2(t):\n",
    "    prime = (xprime2(t)**(2) + yprime2(t)**2)**(0.5)\n",
    "    return prime"
   ]
  },
  {
   "cell_type": "code",
   "execution_count": 41,
   "metadata": {},
   "outputs": [],
   "source": [
    "def speed3(t):\n",
    "    prime = (xprime3(t)**(2) + yprime3(t)**2)**(0.5)\n",
    "    return prime"
   ]
  },
  {
   "cell_type": "code",
   "execution_count": 42,
   "metadata": {},
   "outputs": [
    {
     "data": {
      "text/html": [
       "<div>\n",
       "<style scoped>\n",
       "    .dataframe tbody tr th:only-of-type {\n",
       "        vertical-align: middle;\n",
       "    }\n",
       "\n",
       "    .dataframe tbody tr th {\n",
       "        vertical-align: top;\n",
       "    }\n",
       "\n",
       "    .dataframe thead th {\n",
       "        text-align: right;\n",
       "    }\n",
       "</style>\n",
       "<table border=\"1\" class=\"dataframe\">\n",
       "  <thead>\n",
       "    <tr style=\"text-align: right;\">\n",
       "      <th></th>\n",
       "      <th>t</th>\n",
       "      <th>Speed</th>\n",
       "    </tr>\n",
       "  </thead>\n",
       "  <tbody>\n",
       "    <tr>\n",
       "      <th>0</th>\n",
       "      <td>7</td>\n",
       "      <td>46.4242006221321</td>\n",
       "    </tr>\n",
       "    <tr>\n",
       "      <th>1</th>\n",
       "      <td>8</td>\n",
       "      <td>47.0010393809516</td>\n",
       "    </tr>\n",
       "    <tr>\n",
       "      <th>2</th>\n",
       "      <td>9</td>\n",
       "      <td>48.9988051403680</td>\n",
       "    </tr>\n",
       "    <tr>\n",
       "      <th>3</th>\n",
       "      <td>10</td>\n",
       "      <td>50.0994416296534</td>\n",
       "    </tr>\n",
       "    <tr>\n",
       "      <th>4</th>\n",
       "      <td>11</td>\n",
       "      <td>48.2903508382048</td>\n",
       "    </tr>\n",
       "    <tr>\n",
       "      <th>5</th>\n",
       "      <td>12</td>\n",
       "      <td>51.5645590492724</td>\n",
       "    </tr>\n",
       "    <tr>\n",
       "      <th>6</th>\n",
       "      <td>13</td>\n",
       "      <td>53.9230335450521</td>\n",
       "    </tr>\n",
       "    <tr>\n",
       "      <th>7</th>\n",
       "      <td>14</td>\n",
       "      <td>51.5148005696332</td>\n",
       "    </tr>\n",
       "  </tbody>\n",
       "</table>\n",
       "</div>"
      ],
      "text/plain": [
       "    t             Speed\n",
       "0   7  46.4242006221321\n",
       "1   8  47.0010393809516\n",
       "2   9  48.9988051403680\n",
       "3  10  50.0994416296534\n",
       "4  11  48.2903508382048\n",
       "5  12  51.5645590492724\n",
       "6  13  53.9230335450521\n",
       "7  14  51.5148005696332"
      ]
     },
     "execution_count": 42,
     "metadata": {},
     "output_type": "execute_result"
    }
   ],
   "source": [
    "t_list = [7,8,9,10,11,12,13,14]\n",
    "speed_list = [speed1(7),speed2(8),speed2(9),speed2(10),speed2(11),speed2(12),speed2(13),speed3(14)]\n",
    "import pandas as pd\n",
    "dic_speed = {'t':t_list, 'Speed':speed_list}\n",
    "df = pd.DataFrame(data = dic_speed)\n",
    "df"
   ]
  },
  {
   "cell_type": "code",
   "execution_count": 43,
   "metadata": {},
   "outputs": [],
   "source": [
    "#Question5"
   ]
  },
  {
   "cell_type": "code",
   "execution_count": 44,
   "metadata": {},
   "outputs": [],
   "source": [
    "import numpy as np"
   ]
  },
  {
   "cell_type": "code",
   "execution_count": 45,
   "metadata": {},
   "outputs": [],
   "source": [
    "h0 = 10**(-2)"
   ]
  },
  {
   "cell_type": "code",
   "execution_count": 46,
   "metadata": {},
   "outputs": [],
   "source": [
    "def function(x,y):\n",
    "    functions = [[x**2],[x**3-y]]\n",
    "    return functions"
   ]
  },
  {
   "cell_type": "code",
   "execution_count": 47,
   "metadata": {},
   "outputs": [],
   "source": [
    "def functionprime(f,x,h):\n",
    "    x1 = x[0][0]\n",
    "    x2 = x[1][0]\n",
    "    prime_1 = (np.array(f(x1+h,x2))-np.array(f(x1-h,x2)))/(2*h)\n",
    "    prime_2 = (np.array(f(x1,x2+h))-np.array(f(x1,x2-h)))/(2*h)\n",
    "    list_1 = prime_1.tolist()\n",
    "    list_2 = prime_2.tolist()\n",
    "    totallist = [[list_1[0][0],list_2[0][0]],[list_1[1][0],list_2[1][0]]]\n",
    "    return totallist\n"
   ]
  },
  {
   "cell_type": "code",
   "execution_count": 48,
   "metadata": {},
   "outputs": [],
   "source": [
    "x0 = [[2],[1]]"
   ]
  },
  {
   "cell_type": "code",
   "execution_count": 49,
   "metadata": {},
   "outputs": [
    {
     "data": {
      "text/plain": [
       "[[3.999999999999937, 0.0], [12.000099999999847, -0.9999999999999787]]"
      ]
     },
     "execution_count": 49,
     "metadata": {},
     "output_type": "execute_result"
    }
   ],
   "source": [
    "functionprime(function,x0,h0)"
   ]
  },
  {
   "cell_type": "code",
   "execution_count": 50,
   "metadata": {},
   "outputs": [],
   "source": [
    "#Using sympy to check"
   ]
  },
  {
   "cell_type": "code",
   "execution_count": 51,
   "metadata": {},
   "outputs": [],
   "source": [
    "from sympy import *"
   ]
  },
  {
   "cell_type": "code",
   "execution_count": 52,
   "metadata": {},
   "outputs": [],
   "source": [
    "x1 = symbols('x1')\n",
    "x2 = symbols('x2')\n",
    "differentiation_1 = diff((x1**2),x1)\n",
    "differentiation_2 = diff((x1**2),x2)\n",
    "differentiation_3 = diff((x1**3-x2),x1)\n",
    "differentiation_4 = diff((x1**3-x2),x2)"
   ]
  },
  {
   "cell_type": "code",
   "execution_count": 53,
   "metadata": {},
   "outputs": [],
   "source": [
    "def function_prime(x):\n",
    "    x1 = x[0][0]\n",
    "    x2 = x[1][0]\n",
    "    f_prime = [[2*x1,0],[3*x1**2,-1]]\n",
    "    return f_prime\n"
   ]
  },
  {
   "cell_type": "code",
   "execution_count": 54,
   "metadata": {},
   "outputs": [
    {
     "data": {
      "text/plain": [
       "[[4, 0], [12, -1]]"
      ]
     },
     "execution_count": 54,
     "metadata": {},
     "output_type": "execute_result"
    }
   ],
   "source": [
    "x0 = [[2],[1]]\n",
    "function_prime([[2],[1]])"
   ]
  },
  {
   "cell_type": "code",
   "execution_count": 55,
   "metadata": {},
   "outputs": [],
   "source": [
    "#Question7"
   ]
  },
  {
   "cell_type": "code",
   "execution_count": 56,
   "metadata": {},
   "outputs": [],
   "source": [
    "from autograd import numpy as anp\n",
    "from autograd import grad\n",
    "import time \n",
    "import random"
   ]
  },
  {
   "cell_type": "code",
   "execution_count": 57,
   "metadata": {},
   "outputs": [],
   "source": [
    "h1 = 10**(-2)\n",
    "g = lambda x: (anp.sin(x)+1)**anp.sin(anp.cos(x))"
   ]
  },
  {
   "cell_type": "code",
   "execution_count": 58,
   "metadata": {},
   "outputs": [],
   "source": [
    "sympy_time = []\n",
    "sympy_errs = []\n",
    "grad_time = []\n",
    "grad_errs = []\n",
    "diff_time = []\n",
    "diff_errs = []"
   ]
  },
  {
   "cell_type": "code",
   "execution_count": 59,
   "metadata": {},
   "outputs": [],
   "source": [
    "sympy_time = []\n",
    "sympy_errs = []\n",
    "grad_time = []\n",
    "grad_errs = []\n",
    "diff_time = []\n",
    "diff_errs = []\n",
    "\n",
    "\n",
    "def function(x):\n",
    "    value = (sin(x)+1)**sin(cos(x))\n",
    "    return value\n",
    "\n",
    "def cal_time(n):\n",
    "    for i in range(n):\n",
    "        x0 = random.uniform(-2*np.pi, 2*np.pi)\n",
    "        # sympy\n",
    "        sympy_start = time.time() #record time when running this line\n",
    "        sympy_val = function_diff(x0)  \n",
    "        sympy_t = time.time() - sympy_start #record time when running this line\n",
    "        sympy_time.append(sympy_t)   # add time in 3rd line to the empty list\n",
    "        sympy_errs.append(1e-18)  # add error to the empty list\n",
    "        \n",
    "        # Fourth-order centered difference quotient\n",
    "        diff_start = time.time()\n",
    "        diff_val = centered_2(function, x0, h1)\n",
    "        diff_t = time.time() - diff_start\n",
    "        diff_err = abs(diff_val - sympy_val)\n",
    "        diff_time.append(diff_t)\n",
    "        diff_errs.append(diff_err)\n",
    "        \n",
    "        # Autograd\n",
    "        grad_start = time.time()\n",
    "        dg = grad(g)\n",
    "        grad_val = dg(x0)\n",
    "        grad_t = time.time() - grad_start\n",
    "        grad_err = abs(grad_val - sympy_val)\n",
    "        grad_time.append(grad_t)\n",
    "        grad_errs.append(grad_err)"
   ]
  },
  {
   "cell_type": "code",
   "execution_count": 60,
   "metadata": {},
   "outputs": [],
   "source": [
    "cal_time(200)"
   ]
  },
  {
   "cell_type": "code",
   "execution_count": 61,
   "metadata": {},
   "outputs": [
    {
     "data": {
      "text/plain": [
       "Text(0,0.5,'Error')"
      ]
     },
     "execution_count": 61,
     "metadata": {},
     "output_type": "execute_result"
    },
    {
     "data": {
      "image/png": "[encoded data removed]",
      "text/plain": [
       "<Figure size 432x288 with 1 Axes>"
      ]
     },
     "metadata": {
      "needs_background": "light"
     },
     "output_type": "display_data"
    }
   ],
   "source": [
    "plt.xscale(\"log\")\n",
    "plt.yscale(\"log\")\n",
    "plt.scatter(sympy_time, sympy_errs)\n",
    "plt.scatter(diff_time, diff_errs)\n",
    "plt.scatter(grad_time, grad_errs)\n",
    "plt.legend(['SymPy', 'Difference Quotients', 'Autograd'], loc='upper left')\n",
    "plt.xlabel('Time')\n",
    "plt.ylabel('Error')"
   ]
  },
  {
   "cell_type": "code",
   "execution_count": null,
   "metadata": {},
   "outputs": [],
   "source": []
  }
 ],
 "metadata": {
  "kernelspec": {
   "display_name": "Python 3",
   "language": "python",
   "name": "python3"
  },
  "language_info": {
   "codemirror_mode": {
    "name": "ipython",
    "version": 3
   },
   "file_extension": ".py",
   "mimetype": "text/x-python",
   "name": "python",
   "nbconvert_exporter": "python",
   "pygments_lexer": "ipython3",
   "version": "3.7.0"
  }
 },
 "nbformat": 4,
 "nbformat_minor": 2
}
