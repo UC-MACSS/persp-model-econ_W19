{
 "cells": [
  {
   "cell_type": "markdown",
   "metadata": {},
   "source": [
    "#Q5.1\n",
    "\n",
    "For T = 1\n",
    "$$ V_T(W_T) = \\max_{W_{T+1}} \\: u(W_T - W_{T+1}) = u(W_T) $$\n",
    "$$ W_{2} = W_{T+1} = \\psi_T(W_T) = min(W_T) = 0 \\quad\\forall W_T $$"
   ]
  },
  {
   "cell_type": "markdown",
   "metadata": {},
   "source": [
    "#Q5.2\n",
    "\n",
    "For T = 2\n",
    "$$ V_T(W_T) = \\max_{W_{T+1}} \\: u(W_T - W_{T+1}) = u(W_T) $$\n",
    "$$ W_{3} = W_{T+1} = \\psi_T(W_T) = min(W_T) = 0 \\quad\\forall W_T $$\n",
    "\n",
    "$$ V_{T-1}(W_{T-1}) = \\max_{W_T} \\: u(W_{T-1} - W_T) + \\beta V_T(W_T) $$\n",
    "$$ W_T = \\psi_{T-1}(W_{T-1}) : u\\prime(W_{T-1} - W_T) = \\beta V_T\\prime(W_T) $$"
   ]
  },
  {
   "cell_type": "markdown",
   "metadata": {},
   "source": [
    "#Q5.3\n",
    "\n",
    "For T = 3\n",
    "\n",
    "$$ \\max_{W_{T-1}\\quad W_T} \\: u(W_{T-2} - W_{T-1}) + \\beta u(W_{T-1}-W_T) + \\beta^2 u(W_T) $$\n",
    "\n",
    "$$ \\max_{W_{T-1}} \\: u(W_{T-2} - W_{T-1}) + \\beta u(W_{T-1}-\\psi_{T-1}(W_{T-1})) + \\beta^2 u(\\psi_{T-1}(W_{T-1})) $$\n",
    "\n",
    "Taking derivative with respect to $W_{T-1}$:\n",
    "$$ u\\prime(W_{T-2} - W_{T-1}) = \\beta u\\prime(W_{T-1}-W_T) $$\n",
    "which equals:\n",
    "$$ u\\prime(W_{1} - W_{2}) = \\beta u\\prime(W_{2}-W_3) $$\n",
    "\n",
    "Also:\n",
    "$$ u\\prime(W_{T-1} - W_T) = \\beta u\\prime(W_T) $$\n",
    "which equals:\n",
    "$$ u\\prime(W_{2} - W_3) = \\beta u\\prime(W_3) $$\n",
    "\n"
   ]
  },
  {
   "cell_type": "code",
   "execution_count": 218,
   "metadata": {},
   "outputs": [],
   "source": [
    "import sympy as sy\n",
    "w_1 = 1\n",
    "w2 = sy.symbols('w2')\n",
    "w3 = sy.symbols('w3')\n",
    "beta = 0.9\n",
    "sol = sy.solve([1/(w_1 - w2)-beta * 1/(w2 - w3), 1/(w2 - w3)-beta * 1/w3], dict = True)"
   ]
  },
  {
   "cell_type": "code",
   "execution_count": 219,
   "metadata": {},
   "outputs": [
    {
     "name": "stdout",
     "output_type": "stream",
     "text": [
      "{'w1': 1, 'w2': 0.630996309963100, 'w3': 0.298892988929889, 'w4': 0}\n",
      "{'c1': 0.369003690036900, 'c2': 0.332103321033210, 'c3': 0.298892988929889}\n"
     ]
    }
   ],
   "source": [
    "import numpy as np\n",
    "w_2 = sol[0][w2]\n",
    "w_3 = sol[0][w3]\n",
    "w_4 = 0\n",
    "w = [w_1,w_2,w_3,w_4]\n",
    "c = (np.array(w[:-1]) -np.array(w[1:])).tolist()\n",
    "keys_c = ['c1', 'c2', 'c3']\n",
    "keys_w =['w1','w2','w3','w4']\n",
    "dic_w = dict(zip(keys_w, w))\n",
    "dic_c = dict(zip(keys_c, c))\n",
    "print(dic_w)\n",
    "print(dic_c)"
   ]
  },
  {
   "cell_type": "code",
   "execution_count": 220,
   "metadata": {},
   "outputs": [
    {
     "data": {
      "image/png": "[encoded data removed]",
      "text/plain": [
       "<Figure size 432x288 with 1 Axes>"
      ]
     },
     "metadata": {
      "needs_background": "light"
     },
     "output_type": "display_data"
    }
   ],
   "source": [
    "import matplotlib.pyplot as plt\n",
    "\n",
    "t= [0,1,2,3]\n",
    "\n",
    "plt.plot(t,w)\n",
    "plt.title(\"How w evolves over time\")\n",
    "plt.xlabel(\"t\")\n",
    "plt.ylabel(\"w\")\n",
    "plt.show()"
   ]
  },
  {
   "cell_type": "code",
   "execution_count": 221,
   "metadata": {},
   "outputs": [
    {
     "data": {
      "text/plain": [
       "<function matplotlib.pyplot.show(*args, **kw)>"
      ]
     },
     "execution_count": 221,
     "metadata": {},
     "output_type": "execute_result"
    },
    {
     "data": {
      "image/png": "[encoded data removed]",
      "text/plain": [
       "<Figure size 432x288 with 1 Axes>"
      ]
     },
     "metadata": {
      "needs_background": "light"
     },
     "output_type": "display_data"
    }
   ],
   "source": [
    "plt.plot(t[1:],c)\n",
    "plt.title(\"How c evolves over time\")\n",
    "plt.xlabel(\"t\")\n",
    "plt.ylabel(\"c\")\n",
    "plt.show"
   ]
  },
  {
   "cell_type": "markdown",
   "metadata": {},
   "source": [
    "#Q5.4\n",
    "\n",
    "The condition that characterizes the optimal choice:\n",
    "$$ u\\prime(W_{T-1} - W_T) = \\beta u\\prime(W_T) $$"
   ]
  },
  {
   "cell_type": "markdown",
   "metadata": {},
   "source": [
    "The value function:\n",
    "$$ V_{T-1}(W_{T-1}) \\equiv \\max_{\\ (W_{T−1} \\ )} \\: u(W_{T-1} - \\psi_{T−1}(W_{T−1})) + \\beta u(\\psi_{T−1}(W_{T−1})) $$"
   ]
  },
  {
   "cell_type": "markdown",
   "metadata": {},
   "source": [
    "#Q5.5\n",
    "\n",
    "a.\n",
    "\n",
    "Because $ W_{T+1} = \\psi_{T}(\\bar{W}) = 0 $, if $ \\psi_{T}(\\bar{W}) = \\psi_{T-1}(\\bar{W}) $, \n",
    "\n",
    " $ W_{T} = 0 $. \n",
    "\n",
    "As $ u'(W_{T-1} - W_T) = \\beta u'(W_T) $, \n",
    "And u(c) = ln(c)\n",
    "\n",
    "Then $ (1 + \\beta) W_T = \\beta W_{T-1} $. \n",
    "\n",
    "If $ W_{T} = 0 $, then $ W_{T-1} = 0 $. \n",
    "\n",
    "Accordingly, it can be shown that $ W_{T-2}, ... , W_1 $ all equal to 0.\n",
    "\n",
    "So, $ \\psi_{T}(\\bar{W}) $ does not equate $ \\psi_{T-1}(\\bar{W}) $."
   ]
  },
  {
   "cell_type": "markdown",
   "metadata": {},
   "source": [
    "b.\n",
    "\n",
    "Because $ V_T(\\bar{W}) = u(\\bar{W}) = \\ln(\\bar{W}) $, if $ V_T(\\bar{W}) = V_{T-1}(\\bar{W}) $, \n",
    "\n",
    "$ V_{T-1}(\\bar{W}) = \\ln(\\bar{W} - W_T) + \\beta \\ln(W_T) = \\ln(\\bar{W}) $\n",
    "<br> Because $ u'(\\bar{W} - W_T) = \\beta u'(W_T) $.\n",
    "\n",
    "And u(c) = ln(c)\n",
    "\n",
    "<br> Then $ (1 - \\frac{W_T}{\\bar{W}})(W_T)^\\beta = (1 - \\frac{\\beta}{(\\beta+1)})(W_T)^\\beta = 1 $. \n",
    "\n",
    "If this holds, then $ (W_T)^\\beta = \\beta + 1 $. \n",
    "\n",
    "As $\\beta$ is larger than 0, $ (W_T)^\\beta $ is greater than 1.\n",
    "\n",
    "<br> So, $ V_T(\\bar{W}) $ does not equate to $ V_{T-1}(\\bar{W}) $"
   ]
  },
  {
   "cell_type": "code",
   "execution_count": null,
   "metadata": {},
   "outputs": [],
   "source": []
  },
  {
   "cell_type": "code",
   "execution_count": 222,
   "metadata": {},
   "outputs": [],
   "source": [
    "#Q5.6"
   ]
  },
  {
   "cell_type": "markdown",
   "metadata": {},
   "source": [
    "$$ \\max_{W_{T-1}\\quad W_T} \\: u(W_{T-2} - W_{T-1}) + \\beta u(W_{T-1}-W_T) + \\beta^2 u(W_T) $$\n",
    "\n",
    "$$ \\max_{W_{T-1}} \\: u(W_{T-2} - W_{T-1}) + \\beta u(W_{T-1}-\\psi_{T-1}(W_{T-1})) + \\beta^2 u(\\psi_{T-1}(W_{T-1})) $$\n",
    "\n",
    "Taking derivative with respect to $W_{T-1}$:\n",
    "$$ W_{T-1} = \\psi_{T-2}(W_{T-2}) : u\\prime(W_{T-2} - W_{T-1}) = \\beta u\\prime(W_{T-1}-W_T) $$\n",
    "\n",
    "which equals:\n",
    "$$ \\frac{1}{W_{T-2} - W_{T-1}} = \\beta * \\frac{1}{W_{T-1}-W_T} $$\n",
    "Also, \n",
    "$$ \\frac{1}{W_{T-1} - W_T} = \\frac{\\beta}{ W_T} $$\n",
    "Thus,\n",
    "$$ \\frac{(1+\\beta+\\beta^2)* W_{T-1}}{\\beta(1+\\beta)} = W_{T-2} $$\n",
    "\n",
    "\n",
    "The Bellman Equation is as following:\n",
    "\n",
    "$$ V_{T-2}(W_{T-2}) = ln(\\frac{W_{T-2}}{1+\\beta+\\beta^2}) + \\beta ln(\\frac{\\beta W_{T-2}}{1+\\beta+\\beta^2}) + \\beta^2ln(\\frac{\\beta^2 W_{T-2}}{1+\\beta+\\beta^2})  $$"
   ]
  },
  {
   "cell_type": "code",
   "execution_count": null,
   "metadata": {},
   "outputs": [],
   "source": []
  },
  {
   "cell_type": "code",
   "execution_count": 223,
   "metadata": {},
   "outputs": [],
   "source": [
    "#Q5.7"
   ]
  },
  {
   "cell_type": "markdown",
   "metadata": {},
   "source": [
    "The analytical solution of $\\psi_{T-s}(W_{T-s})$ is:\n",
    "$$ \\psi_{T-s}(W_{T-s}) = \\frac{\\sum_{i=1}^{s} \\beta^i}{1 + \\sum_{i=1}^{s} \\beta^i} W_{T-s} $$\n",
    "\n",
    "The analytical solution of $ V_{T-s}(W_{T-s})$ is:\n",
    "$$ V_{T-s}(W_{T-s}) = \\sum_{i=0}^{s} \\beta^i \\ln[\\frac{\\beta^i W_{T-s}}{1 + \\sum_{i=1}^{s} \\beta^i}] $$\n",
    "\n",
    "Thus:\n",
    "$$ \\lim\\limits_{s \\to \\infty} \\psi_{T-s}(W_{T-s}) = \\beta (W_{T-s}) = \\psi(W_{T-s}) $$\n",
    "\n",
    "And:\n",
    "$$ \\lim\\limits_{s \\to \\infty} V_{T-s}(W_{T-s}) = (\\frac{1}{1-\\beta}) \\ln((1-\\beta)W_{T-s}) + \\frac{\\beta}{(1-\\beta)^2} \\ln(\\beta) = V(W_{T-s}) $$"
   ]
  },
  {
   "cell_type": "code",
   "execution_count": 224,
   "metadata": {},
   "outputs": [],
   "source": [
    "#Q5.8"
   ]
  },
  {
   "cell_type": "markdown",
   "metadata": {},
   "source": [
    "The Bellman equation when the horizon is infinite is:\n",
    "\n",
    "If w is the cake left for tomorrow,\n",
    "$$ V(W) = \\max_{w} \\: u(W - w) + \\beta V(w) $$\n"
   ]
  },
  {
   "cell_type": "code",
   "execution_count": 225,
   "metadata": {},
   "outputs": [],
   "source": [
    "#Q5.9"
   ]
  },
  {
   "cell_type": "code",
   "execution_count": 226,
   "metadata": {},
   "outputs": [
    {
     "data": {
      "text/plain": [
       "array([0.01, 0.02, 0.03, 0.04, 0.05, 0.06, 0.07, 0.08, 0.09, 0.1 , 0.11,\n",
       "       0.12, 0.13, 0.14, 0.15, 0.16, 0.17, 0.18, 0.19, 0.2 , 0.21, 0.22,\n",
       "       0.23, 0.24, 0.25, 0.26, 0.27, 0.28, 0.29, 0.3 , 0.31, 0.32, 0.33,\n",
       "       0.34, 0.35, 0.36, 0.37, 0.38, 0.39, 0.4 , 0.41, 0.42, 0.43, 0.44,\n",
       "       0.45, 0.46, 0.47, 0.48, 0.49, 0.5 , 0.51, 0.52, 0.53, 0.54, 0.55,\n",
       "       0.56, 0.57, 0.58, 0.59, 0.6 , 0.61, 0.62, 0.63, 0.64, 0.65, 0.66,\n",
       "       0.67, 0.68, 0.69, 0.7 , 0.71, 0.72, 0.73, 0.74, 0.75, 0.76, 0.77,\n",
       "       0.78, 0.79, 0.8 , 0.81, 0.82, 0.83, 0.84, 0.85, 0.86, 0.87, 0.88,\n",
       "       0.89, 0.9 , 0.91, 0.92, 0.93, 0.94, 0.95, 0.96, 0.97, 0.98, 0.99,\n",
       "       1.  ])"
      ]
     },
     "execution_count": 226,
     "metadata": {},
     "output_type": "execute_result"
    }
   ],
   "source": [
    "w_lb = 0.01\n",
    "w_ub = 1\n",
    "N = 100\n",
    "w = np.linspace(w_lb,w_ub,N)\n",
    "w"
   ]
  },
  {
   "cell_type": "code",
   "execution_count": 227,
   "metadata": {},
   "outputs": [],
   "source": [
    "#Q5.10"
   ]
  },
  {
   "cell_type": "code",
   "execution_count": 228,
   "metadata": {},
   "outputs": [
    {
     "data": {
      "text/plain": [
       "array([0.01, 0.01, 0.01, 0.01, 0.01, 0.01, 0.01, 0.01, 0.01, 0.01, 0.01,\n",
       "       0.01, 0.01, 0.01, 0.01, 0.01, 0.01, 0.01, 0.01, 0.01, 0.01, 0.01,\n",
       "       0.01, 0.01, 0.01, 0.01, 0.01, 0.01, 0.01, 0.01, 0.01, 0.01, 0.01,\n",
       "       0.01, 0.01, 0.01, 0.01, 0.01, 0.01, 0.01, 0.01, 0.01, 0.01, 0.01,\n",
       "       0.01, 0.01, 0.01, 0.01, 0.01, 0.01, 0.01, 0.01, 0.01, 0.01, 0.01,\n",
       "       0.01, 0.01, 0.01, 0.01, 0.01, 0.01, 0.01, 0.01, 0.01, 0.01, 0.01,\n",
       "       0.01, 0.01, 0.01, 0.01, 0.01, 0.01, 0.01, 0.01, 0.01, 0.01, 0.01,\n",
       "       0.01, 0.01, 0.01, 0.01, 0.01, 0.01, 0.01, 0.01, 0.01, 0.01, 0.01,\n",
       "       0.01, 0.01, 0.01, 0.01, 0.01, 0.01, 0.01, 0.01, 0.01, 0.01, 0.01,\n",
       "       0.01])"
      ]
     },
     "execution_count": 228,
     "metadata": {},
     "output_type": "execute_result"
    }
   ],
   "source": [
    "def utility(c):\n",
    "    util = np.log(c)\n",
    "    return util\n",
    "\n",
    "beta = 0.9\n",
    "\n",
    "V_prime = np.zeros(N).reshape(N,1)\n",
    "\n",
    "V_init = utility(w)\n",
    "\n",
    "c_mat = (np.tile(w.reshape((N,1)),(1,N)) - \n",
    "        np.tile(w.reshape((1,N)),(N,1)))\n",
    "c_pos = c_mat > 0\n",
    "c_mat[~c_pos] = 1e-10\n",
    "u_mat = utility(c_mat)\n",
    "\n",
    "VF = u_mat + beta * V_prime\n",
    "\n",
    "V = VF.max(axis = 1)\n",
    "index = np.argmax(u_mat + beta * V_prime, axis = 1)\n",
    "w[index]"
   ]
  },
  {
   "cell_type": "code",
   "execution_count": 229,
   "metadata": {},
   "outputs": [
    {
     "data": {
      "image/png": "[encoded data removed]",
      "text/plain": [
       "<Figure size 432x288 with 1 Axes>"
      ]
     },
     "metadata": {
      "needs_background": "light"
     },
     "output_type": "display_data"
    }
   ],
   "source": [
    "plt.plot(w,w[index])\n",
    "plt.title(\"Policy Function\")\n",
    "plt.show()"
   ]
  },
  {
   "cell_type": "code",
   "execution_count": 230,
   "metadata": {},
   "outputs": [
    {
     "data": {
      "image/png": "[encoded data removed]",
      "text/plain": [
       "<Figure size 432x288 with 1 Axes>"
      ]
     },
     "metadata": {
      "needs_background": "light"
     },
     "output_type": "display_data"
    }
   ],
   "source": [
    "plt.plot(V)\n",
    "plt.title(\"Value Function\")\n",
    "plt.show()"
   ]
  },
  {
   "cell_type": "code",
   "execution_count": 231,
   "metadata": {},
   "outputs": [],
   "source": [
    "#Q5.11"
   ]
  },
  {
   "cell_type": "code",
   "execution_count": 232,
   "metadata": {},
   "outputs": [
    {
     "data": {
      "text/plain": [
       "340.2886682816635"
      ]
     },
     "execution_count": 232,
     "metadata": {},
     "output_type": "execute_result"
    }
   ],
   "source": [
    "dist = np.sum((V - V_init)**2)\n",
    "dist"
   ]
  },
  {
   "cell_type": "code",
   "execution_count": 233,
   "metadata": {},
   "outputs": [],
   "source": [
    "#Q5.12"
   ]
  },
  {
   "cell_type": "code",
   "execution_count": 234,
   "metadata": {},
   "outputs": [
    {
     "data": {
      "text/plain": [
       "array([0.01, 0.01, 0.02, 0.02, 0.03, 0.03, 0.04, 0.04, 0.05, 0.05, 0.06,\n",
       "       0.06, 0.07, 0.07, 0.08, 0.08, 0.09, 0.09, 0.1 , 0.1 , 0.1 , 0.11,\n",
       "       0.11, 0.12, 0.12, 0.13, 0.13, 0.14, 0.14, 0.15, 0.15, 0.16, 0.16,\n",
       "       0.17, 0.17, 0.18, 0.18, 0.19, 0.19, 0.19, 0.2 , 0.2 , 0.21, 0.21,\n",
       "       0.22, 0.22, 0.23, 0.23, 0.24, 0.24, 0.25, 0.25, 0.26, 0.26, 0.27,\n",
       "       0.27, 0.28, 0.28, 0.28, 0.29, 0.29, 0.3 , 0.3 , 0.31, 0.31, 0.32,\n",
       "       0.32, 0.33, 0.33, 0.34, 0.34, 0.35, 0.35, 0.36, 0.36, 0.37, 0.37,\n",
       "       0.37, 0.38, 0.38, 0.39, 0.39, 0.4 , 0.4 , 0.41, 0.41, 0.42, 0.42,\n",
       "       0.43, 0.43, 0.44, 0.44, 0.45, 0.45, 0.46, 0.46, 0.46, 0.47, 0.47,\n",
       "       0.48])"
      ]
     },
     "execution_count": 234,
     "metadata": {},
     "output_type": "execute_result"
    }
   ],
   "source": [
    "V_prime = V\n",
    "V_init = utility(w)\n",
    "c_mat = (np.tile(w.reshape((N,1)),(1,N)) - \n",
    "        np.tile(w.reshape((1,N)),(N,1)))\n",
    "c_pos = c_mat > 0\n",
    "c_mat[~c_pos] = 1e-10\n",
    "u_mat = utility(c_mat)\n",
    "V_prime = np.tile(V.reshape((1,N)),(N,1))\n",
    "V_prime[~c_pos] = -9e+4\n",
    "\n",
    "VF = u_mat + beta * V_prime\n",
    "V_new = VF.max(axis = 1)\n",
    "index = np.argmax(u_mat + beta * V_prime, axis = 1)\n",
    "w[index]"
   ]
  },
  {
   "cell_type": "code",
   "execution_count": 235,
   "metadata": {},
   "outputs": [
    {
     "data": {
      "image/png": "[encoded data removed]",
      "text/plain": [
       "<Figure size 432x288 with 1 Axes>"
      ]
     },
     "metadata": {
      "needs_background": "light"
     },
     "output_type": "display_data"
    }
   ],
   "source": [
    "plt.plot(w,w[index])\n",
    "plt.title(\"Policy Function\")\n",
    "plt.show()"
   ]
  },
  {
   "cell_type": "code",
   "execution_count": 236,
   "metadata": {},
   "outputs": [
    {
     "data": {
      "image/png": "[encoded data removed]",
      "text/plain": [
       "<Figure size 432x288 with 1 Axes>"
      ]
     },
     "metadata": {
      "needs_background": "light"
     },
     "output_type": "display_data"
    }
   ],
   "source": [
    "plt.plot(V_new)\n",
    "plt.title(\"Value Function\")\n",
    "plt.show()"
   ]
  },
  {
   "cell_type": "code",
   "execution_count": 237,
   "metadata": {},
   "outputs": [
    {
     "name": "stdout",
     "output_type": "stream",
     "text": [
      "distance T-1: 6561000945.781889\n",
      "distance T: 340.2886682816635\n",
      "distance between these two gets larger\n"
     ]
    }
   ],
   "source": [
    "Dist = np.sum((V_new-V)**2)\n",
    "print(\"distance T-1:\",Dist)\n",
    "print(\"distance T:\",dist)\n",
    "print(\"distance between these two gets larger\")"
   ]
  },
  {
   "cell_type": "code",
   "execution_count": 238,
   "metadata": {},
   "outputs": [],
   "source": [
    "#Q5.13"
   ]
  },
  {
   "cell_type": "code",
   "execution_count": 239,
   "metadata": {},
   "outputs": [
    {
     "data": {
      "text/plain": [
       "array([0.01, 0.01, 0.02, 0.03, 0.03, 0.04, 0.05, 0.05, 0.06, 0.07, 0.07,\n",
       "       0.08, 0.09, 0.09, 0.1 , 0.1 , 0.11, 0.12, 0.12, 0.13, 0.14, 0.14,\n",
       "       0.15, 0.16, 0.16, 0.17, 0.18, 0.18, 0.19, 0.19, 0.2 , 0.2 , 0.21,\n",
       "       0.22, 0.22, 0.23, 0.24, 0.24, 0.25, 0.26, 0.26, 0.27, 0.28, 0.28,\n",
       "       0.29, 0.29, 0.3 , 0.31, 0.31, 0.32, 0.33, 0.33, 0.34, 0.35, 0.35,\n",
       "       0.36, 0.36, 0.37, 0.37, 0.38, 0.39, 0.39, 0.4 , 0.41, 0.41, 0.42,\n",
       "       0.43, 0.43, 0.44, 0.45, 0.45, 0.46, 0.46, 0.47, 0.48, 0.48, 0.49,\n",
       "       0.5 , 0.5 , 0.51, 0.52, 0.52, 0.53, 0.53, 0.54, 0.55, 0.55, 0.56,\n",
       "       0.56, 0.57, 0.58, 0.58, 0.59, 0.6 , 0.6 , 0.61, 0.62, 0.62, 0.63,\n",
       "       0.64])"
      ]
     },
     "execution_count": 239,
     "metadata": {},
     "output_type": "execute_result"
    }
   ],
   "source": [
    "V_prime = V_new\n",
    "V_init = utility(w)\n",
    "c_mat = (np.tile(w.reshape((N,1)),(1,N)) - \n",
    "        np.tile(w.reshape((1,N)),(N,1)))\n",
    "c_pos = c_mat > 0\n",
    "c_mat[~c_pos] = 1e-10\n",
    "u_mat = utility(c_mat)\n",
    "V_prime = np.tile(V_new.reshape((1,N)),(N,1))\n",
    "V_prime[~c_pos] = -9e+4\n",
    "\n",
    "VT = u_mat + beta * V_prime\n",
    "\n",
    "V_new1 = VT.max(axis = 1)\n",
    "index = np.argmax(u_mat + beta * V_prime, axis = 1)\n",
    "w[index]"
   ]
  },
  {
   "cell_type": "code",
   "execution_count": 240,
   "metadata": {},
   "outputs": [
    {
     "data": {
      "image/png": "[encoded data removed]",
      "text/plain": [
       "<Figure size 432x288 with 1 Axes>"
      ]
     },
     "metadata": {
      "needs_background": "light"
     },
     "output_type": "display_data"
    }
   ],
   "source": [
    "plt.plot(w,w[index])\n",
    "plt.title(\"Policy Function\")\n",
    "plt.show()"
   ]
  },
  {
   "cell_type": "code",
   "execution_count": 241,
   "metadata": {},
   "outputs": [
    {
     "data": {
      "image/png": "[encoded data removed]",
      "text/plain": [
       "<Figure size 432x288 with 1 Axes>"
      ]
     },
     "metadata": {
      "needs_background": "light"
     },
     "output_type": "display_data"
    }
   ],
   "source": [
    "plt.plot(V_new1)\n",
    "plt.title(\"Value Function\")\n",
    "plt.show()"
   ]
  },
  {
   "cell_type": "code",
   "execution_count": 242,
   "metadata": {},
   "outputs": [
    {
     "name": "stdout",
     "output_type": "stream",
     "text": [
      "distance T-2: 5314410944.0394945\n",
      "distance T-1: 6561000945.781889\n",
      "distance T: 340.2886682816635\n",
      "distance gets smaller from T-1 to T-2\n"
     ]
    }
   ],
   "source": [
    "DIST = np.sum((V_new1-V_new)**2)\n",
    "print(\"distance T-2:\",DIST)\n",
    "print(\"distance T-1:\",Dist)\n",
    "print(\"distance T:\",dist)\n",
    "print(\"distance gets smaller from T-1 to T-2\")"
   ]
  },
  {
   "cell_type": "code",
   "execution_count": null,
   "metadata": {},
   "outputs": [],
   "source": []
  },
  {
   "cell_type": "code",
   "execution_count": 243,
   "metadata": {},
   "outputs": [
    {
     "name": "stdout",
     "output_type": "stream",
     "text": [
      "Iter= 1 , distance =  6563985007.657785\n",
      "Iter= 2 , distance =  5316828035.491551\n",
      "Iter= 3 , distance =  4306630819.958046\n",
      "Iter= 4 , distance =  3488371038.8842497\n",
      "Iter= 5 , distance =  2825580594.096034\n",
      "Iter= 6 , distance =  2288720319.2797203\n",
      "Iter= 7 , distance =  1853863486.7757986\n",
      "Iter= 8 , distance =  1501629445.548632\n",
      "Iter= 9 , distance =  1216319867.1479275\n",
      "Iter= 10 , distance =  985219105.0198653\n",
      "Iter= 11 , distance =  798027484.9834925\n",
      "Iter= 12 , distance =  646402270.7859683\n",
      "Iter= 13 , distance =  523585845.731953\n",
      "Iter= 14 , distance =  424104540.31342936\n",
      "Iter= 15 , distance =  343524682.05194384\n",
      "Iter= 16 , distance =  278254996.15010464\n",
      "Iter= 17 , distance =  225386550.10481408\n",
      "Iter= 18 , distance =  182563108.40885067\n",
      "Iter= 19 , distance =  147876120.28517076\n",
      "Iter= 20 , distance =  119779659.61285393\n",
      "Iter= 21 , distance =  97021526.32175387\n",
      "Iter= 22 , distance =  78587438.24377468\n",
      "Iter= 23 , distance =  63655826.797743194\n",
      "Iter= 24 , distance =  51561221.43000043\n",
      "Iter= 25 , distance =  41764590.99362178\n",
      "Iter= 26 , distance =  33829320.258351654\n",
      "Iter= 27 , distance =  27401750.88813295\n",
      "Iter= 28 , distance =  22195419.630133\n",
      "Iter= 29 , distance =  17978291.248549566\n",
      "Iter= 30 , distance =  14562417.202229027\n",
      "Iter= 31 , distance =  11795559.172756335\n",
      "Iter= 32 , distance =  9554404.12031933\n",
      "Iter= 33 , distance =  7739068.484603304\n",
      "Iter= 34 , distance =  6268646.579869382\n",
      "Iter= 35 , distance =  5077604.801231563\n",
      "Iter= 36 , distance =  4112860.92786322\n",
      "Iter= 37 , distance =  3331418.3610032974\n",
      "Iter= 38 , distance =  2698449.8550905357\n",
      "Iter= 39 , distance =  2185745.340916173\n",
      "Iter= 40 , distance =  1770454.662405837\n",
      "Iter= 41 , distance =  1434069.1918269114\n",
      "Iter= 42 , distance =  1161596.942174743\n",
      "Iter= 43 , distance =  940894.4026855434\n",
      "Iter= 44 , distance =  762125.3301672665\n",
      "Iter= 45 , distance =  617322.3668386245\n",
      "Iter= 46 , distance =  500031.9534910452\n",
      "Iter= 47 , distance =  405026.70660177537\n",
      "Iter= 48 , distance =  328072.44560896023\n",
      "Iter= 49 , distance =  265739.4831122093\n",
      "Iter= 50 , distance =  215249.773787078\n",
      "Iter= 51 , distance =  174353.09978101993\n",
      "Iter= 52 , distance =  141226.7852404473\n",
      "Iter= 53 , distance =  114394.46174083267\n",
      "Iter= 54 , distance =  92660.27195996972\n",
      "Iter= 55 , distance =  75055.57103803426\n",
      "Iter= 56 , distance =  60795.755437120926\n",
      "Iter= 57 , distance =  49245.297958901705\n",
      "Iter= 58 , distance =  39889.420365982616\n",
      "Iter= 59 , distance =  32311.15301448741\n",
      "Iter= 60 , distance =  26172.749416523955\n",
      "Iter= 61 , distance =  21200.63621759014\n",
      "Iter= 62 , distance =  17173.217133022226\n",
      "Iter= 63 , distance =  13911.001395746944\n",
      "Iter= 64 , distance =  11268.599915507328\n",
      "Iter= 65 , distance =  9128.248415880727\n",
      "Iter= 66 , distance =  7394.556568738393\n",
      "Iter= 67 , distance =  5990.259783037198\n",
      "Iter= 68 , distance =  4852.771512109664\n",
      "Iter= 69 , distance =  3931.398197437206\n",
      "Iter= 70 , distance =  3185.07882150994\n",
      "Iter= 71 , distance =  2580.5520350857705\n",
      "Iter= 72 , distance =  2090.8780717923887\n",
      "Iter= 73 , distance =  1694.2330104831076\n",
      "Iter= 74 , distance =  1372.9413650084316\n",
      "Iter= 75 , distance =  1112.6869372506203\n",
      "Iter= 76 , distance =  901.8712561442742\n",
      "Iter= 77 , distance =  731.0989623881655\n",
      "Iter= 78 , distance =  592.7623610583149\n",
      "Iter= 79 , distance =  480.69981033250417\n",
      "Iter= 80 , distance =  389.9174929052662\n",
      "Iter= 81 , distance =  316.3696813569722\n",
      "Iter= 82 , distance =  256.7824724428508\n",
      "Iter= 83 , distance =  208.50473663213486\n",
      "Iter= 84 , distance =  169.37992660717697\n",
      "Iter= 85 , distance =  137.6722666225492\n",
      "Iter= 86 , distance =  111.97419578181234\n",
      "Iter= 87 , distance =  91.13432753236344\n",
      "Iter= 88 , distance =  74.23363961424533\n",
      "Iter= 89 , distance =  60.52577469850647\n",
      "Iter= 90 , distance =  49.386593018756344\n",
      "Iter= 91 , distance =  40.245726192931954\n",
      "Iter= 92 , distance =  32.12873413001096\n",
      "Iter= 93 , distance =  25.543941374558337\n",
      "Iter= 94 , distance =  19.768795412191732\n",
      "Iter= 95 , distance =  15.156684329052599\n",
      "Iter= 96 , distance =  11.175532170156538\n",
      "Iter= 97 , distance =  8.021189330265935\n",
      "Iter= 98 , distance =  5.341950547088503\n",
      "Iter= 99 , distance =  3.2354766128598538\n",
      "Iter= 100 , distance =  1.4639595217218375\n",
      "Iter= 101 , distance =  0.0\n",
      "YAY! IT CONVERGED\n",
      "V(W) [-8.10230259e+04 -7.29253284e+04 -6.56374008e+04 -5.90782659e+04\n",
      " -5.31750444e+04 -4.78621452e+04 -4.30805358e+04 -3.87770874e+04\n",
      " -3.49039838e+04 -3.14181906e+04 -2.82809767e+04 -2.54574842e+04\n",
      " -2.29163410e+04 -2.06293120e+04 -1.85709860e+04 -1.67184926e+04\n",
      " -1.50512485e+04 -1.35507288e+04 -1.22002611e+04 -1.09848402e+04\n",
      " -9.89096132e+03 -8.90647036e+03 -8.02042849e+03 -7.22299081e+03\n",
      " -6.50529690e+03 -5.85937238e+03 -5.27804031e+03 -4.75484145e+03\n",
      " -4.28396248e+03 -3.86017140e+03 -3.47875943e+03 -3.13548866e+03\n",
      " -2.82654496e+03 -2.54849564e+03 -2.29825124e+03 -2.07303129e+03\n",
      " -1.87033333e+03 -1.68790517e+03 -1.52371982e+03 -1.37595301e+03\n",
      " -1.24296288e+03 -1.12327176e+03 -1.01554975e+03 -9.18599949e+02\n",
      " -8.31345124e+02 -7.52815782e+02 -6.82139374e+02 -6.18530607e+02\n",
      " -5.61282716e+02 -5.09759615e+02 -4.63388824e+02 -4.21655111e+02\n",
      " -3.84094770e+02 -3.50290464e+02 -3.19866587e+02 -2.92485099e+02\n",
      " -2.67841759e+02 -2.45662753e+02 -2.25701648e+02 -2.07736654e+02\n",
      " -1.91568158e+02 -1.77016513e+02 -1.63920032e+02 -1.52133199e+02\n",
      " -1.41525049e+02 -1.31977714e+02 -1.23385113e+02 -1.15651772e+02\n",
      " -1.08691765e+02 -1.02427759e+02 -9.67901530e+01 -9.17163078e+01\n",
      " -8.71498472e+01 -8.30400327e+01 -7.93411996e+01 -7.60122498e+01\n",
      " -7.30161950e+01 -7.03197457e+01 -6.78929413e+01 -6.57088174e+01\n",
      " -6.37431058e+01 -6.19739654e+01 -6.03817391e+01 -5.89487354e+01\n",
      " -5.76590320e+01 -5.64982990e+01 -5.54536393e+01 -5.45134455e+01\n",
      " -5.36672712e+01 -5.29057142e+01 -5.22125671e+01 -5.15271658e+01\n",
      " -5.09033334e+01 -5.02864722e+01 -4.97250230e+01 -4.91698480e+01\n",
      " -4.86645437e+01 -4.81648862e+01 -4.77101124e+01 -4.72604206e+01]\n"
     ]
    }
   ],
   "source": [
    "maxiters = 500\n",
    "toler = 1e-10\n",
    "dist = 10.0\n",
    "VF_iter = 0\n",
    "while dist > toler and VF_iter < maxiters:\n",
    "    VF_iter += 1\n",
    "    #one contraction mapping\n",
    "    V_prime = np.tile(V_init.reshape((1,N)),(N,1))\n",
    "    V_prime[~c_pos] = -9e+4\n",
    "    V = (u_mat + beta * V_prime).max(axis = 1)\n",
    "    dist = ((V - V_init)**2).sum()\n",
    "    print('Iter=', VF_iter, ', distance = ', dist)\n",
    "    V_init = V\n",
    "    \n",
    "print('YAY! IT CONVERGED')\n",
    "print('V(W)',V_init)"
   ]
  },
  {
   "cell_type": "code",
   "execution_count": 244,
   "metadata": {},
   "outputs": [
    {
     "data": {
      "image/png": "[encoded data removed]",
      "text/plain": [
       "<Figure size 432x288 with 1 Axes>"
      ]
     },
     "metadata": {
      "needs_background": "light"
     },
     "output_type": "display_data"
    }
   ],
   "source": [
    "plt.plot(V)\n",
    "plt.title(\"Value Function\")\n",
    "plt.show()"
   ]
  },
  {
   "cell_type": "code",
   "execution_count": 245,
   "metadata": {},
   "outputs": [],
   "source": [
    "#Q5.15"
   ]
  },
  {
   "cell_type": "code",
   "execution_count": 246,
   "metadata": {},
   "outputs": [
    {
     "data": {
      "image/png": "[encoded data removed]",
      "text/plain": [
       "<Figure size 432x288 with 1 Axes>"
      ]
     },
     "metadata": {
      "needs_background": "light"
     },
     "output_type": "display_data"
    }
   ],
   "source": [
    "index = np.argmax(u_mat + beta * V_prime, axis=1)\n",
    "W_prime = w[index]\n",
    "\n",
    "plt.xlabel(\"w\")\n",
    "plt.ylabel(\"w prime\")\n",
    "plt.plot(w, W_prime)\n",
    "plt.title(\"Policy Function\")\n",
    "plt.show()"
   ]
  },
  {
   "cell_type": "code",
   "execution_count": 247,
   "metadata": {},
   "outputs": [],
   "source": [
    "#Q5.16"
   ]
  },
  {
   "cell_type": "code",
   "execution_count": 248,
   "metadata": {},
   "outputs": [
    {
     "data": {
      "text/plain": [
       "array([0.5, 1. , 1.5, 2. , 2.5, 3. , 3.5])"
      ]
     },
     "execution_count": 248,
     "metadata": {},
     "output_type": "execute_result"
    }
   ],
   "source": [
    "sig = 0.5\n",
    "mu = 4 * sig\n",
    "M = 7\n",
    "pts = np.linspace(mu-3*sig, mu+3*sig, M)\n",
    "pts"
   ]
  },
  {
   "cell_type": "code",
   "execution_count": 249,
   "metadata": {},
   "outputs": [
    {
     "data": {
      "text/plain": [
       "array([0.0088637 , 0.10798193, 0.48394145, 0.79788456, 0.48394145,\n",
       "       0.10798193, 0.0088637 ])"
      ]
     },
     "execution_count": 249,
     "metadata": {},
     "output_type": "execute_result"
    }
   ],
   "source": [
    "from scipy.stats import norm\n",
    "Pdf = lambda x: norm(loc = mu, scale = sig).pdf(x)\n",
    "pts_pdf = Pdf(pts)\n",
    "pts_pdf"
   ]
  },
  {
   "cell_type": "code",
   "execution_count": 250,
   "metadata": {},
   "outputs": [
    {
     "data": {
      "image/png": "[encoded data removed]",
      "text/plain": [
       "<Figure size 432x288 with 1 Axes>"
      ]
     },
     "metadata": {
      "needs_background": "light"
     },
     "output_type": "display_data"
    }
   ],
   "source": [
    "plt.plot(pts,pts_pdf)\n",
    "plt.show()"
   ]
  },
  {
   "cell_type": "code",
   "execution_count": 251,
   "metadata": {},
   "outputs": [],
   "source": [
    "#Q5.17"
   ]
  },
  {
   "cell_type": "code",
   "execution_count": 252,
   "metadata": {},
   "outputs": [],
   "source": [
    "c_mat = (np.tile(w.reshape((N,1)),(1,N)) - \n",
    "        np.tile(w.reshape((1,N)),(N,1)))\n",
    "c_pos = c_mat > 0\n",
    "c_mat[~c_pos] = 1e-10\n",
    "u_mat = utility(c_mat)\n",
    "cube = np.array([u_mat*e for e in pts])\n",
    "\n",
    "V_init = np.zeros((N,M))\n",
    "EV = V_init @ pts_pdf.reshape((M,1))\n",
    "EV_mat = np.tile(EV.reshape((1,N)),(N,1))\n",
    "EV_mat[~c_pos] = -9e+4\n",
    "EV_cube = np.array([EV_mat for e in range(M)])\n",
    "\n",
    "value = cube + beta * EV_cube\n",
    "V_new = np.zeros((N,M))\n",
    "W_new = np.zeros((N,M))\n",
    "for i in range(N):\n",
    "    VT = value[:,i,:]\n",
    "    V_new[i] = VT.max(axis = 1)\n",
    "    index = np.argmax(VT, axis = 1)\n",
    "    W_new[i] = w[index]"
   ]
  },
  {
   "cell_type": "code",
   "execution_count": 253,
   "metadata": {},
   "outputs": [
    {
     "data": {
      "image/png": "[encoded data removed]",
      "text/plain": [
       "<Figure size 432x288 with 1 Axes>"
      ]
     },
     "metadata": {
      "needs_background": "light"
     },
     "output_type": "display_data"
    }
   ],
   "source": [
    "plt.plot(w,np.average(W_new,axis=1))\n",
    "plt.title(\"Policy Function\")\n",
    "plt.show()"
   ]
  },
  {
   "cell_type": "code",
   "execution_count": 254,
   "metadata": {},
   "outputs": [
    {
     "data": {
      "image/png": "[encoded data removed]",
      "text/plain": [
       "<Figure size 432x288 with 1 Axes>"
      ]
     },
     "metadata": {
      "needs_background": "light"
     },
     "output_type": "display_data"
    }
   ],
   "source": [
    "plt.plot(np.average(V_new,axis=1))\n",
    "plt.title(\"Value Function\")\n",
    "plt.show()"
   ]
  },
  {
   "cell_type": "code",
   "execution_count": 255,
   "metadata": {},
   "outputs": [],
   "source": [
    "#Q5.18"
   ]
  },
  {
   "cell_type": "code",
   "execution_count": 256,
   "metadata": {},
   "outputs": [
    {
     "name": "stdout",
     "output_type": "stream",
     "text": [
      "45979247448.96637\n"
     ]
    }
   ],
   "source": [
    "dist = np.sum((V_init - V_new)**2)\n",
    "print(dist)"
   ]
  },
  {
   "cell_type": "code",
   "execution_count": 257,
   "metadata": {},
   "outputs": [],
   "source": [
    "#Q5.19"
   ]
  },
  {
   "cell_type": "code",
   "execution_count": 258,
   "metadata": {},
   "outputs": [],
   "source": [
    "V_init = V_new\n",
    "EV = V_init @ pts_pdf.reshape((M,1))\n",
    "EV_mat = np.tile(EV.reshape((1,N)),(N,1))\n",
    "EV_mat[~c_pos] = -9e+4\n",
    "EV_cube = np.array([EV_mat for e in range(M)])\n",
    "value = cube + beta * EV_cube\n",
    "V_new1 = np.zeros((N,M))\n",
    "W_new1 = np.zeros((N,M))\n",
    "for i in range(N):\n",
    "    VT = value[:,i,:]\n",
    "    V_new1[i] = VT.max(axis = 1)\n",
    "    index = np.argmax(VT, axis = 1)\n",
    "    W_new1[i] = w[index]"
   ]
  },
  {
   "cell_type": "code",
   "execution_count": 259,
   "metadata": {},
   "outputs": [
    {
     "data": {
      "image/png": "[encoded data removed]",
      "text/plain": [
       "<Figure size 432x288 with 1 Axes>"
      ]
     },
     "metadata": {
      "needs_background": "light"
     },
     "output_type": "display_data"
    }
   ],
   "source": [
    "plt.plot(w,np.average(W_new1, axis = 1))\n",
    "plt.title(\"Policy Function\")\n",
    "plt.show()"
   ]
  },
  {
   "cell_type": "code",
   "execution_count": 260,
   "metadata": {},
   "outputs": [
    {
     "data": {
      "image/png": "[encoded data removed]",
      "text/plain": [
       "<Figure size 432x288 with 1 Axes>"
      ]
     },
     "metadata": {
      "needs_background": "light"
     },
     "output_type": "display_data"
    }
   ],
   "source": [
    "plt.plot(np.average(V_new1,axis=1))\n",
    "plt.title(\"Value Function\")\n",
    "plt.show()"
   ]
  },
  {
   "cell_type": "code",
   "execution_count": 261,
   "metadata": {},
   "outputs": [
    {
     "name": "stdout",
     "output_type": "stream",
     "text": [
      "Distance T 45979247448.96637\n",
      "Distance T-1 45968829677.923256\n",
      "distance gets smaller\n"
     ]
    }
   ],
   "source": [
    "Dist = np.sum((V_new1 - V_new)**2)\n",
    "print(\"Distance T\",dist)\n",
    "print(\"Distance T-1\",Dist)\n",
    "print(\"distance gets smaller\")"
   ]
  },
  {
   "cell_type": "code",
   "execution_count": 262,
   "metadata": {},
   "outputs": [],
   "source": [
    "#Q5.20"
   ]
  },
  {
   "cell_type": "code",
   "execution_count": 263,
   "metadata": {},
   "outputs": [],
   "source": [
    "V_init = V_new1\n",
    "EV = V_init @ pts_pdf.reshape((M,1))\n",
    "EV_mat = np.tile(EV.reshape((1,N)),(N,1))\n",
    "EV_mat[~c_pos] = -9e+4\n",
    "EV_cube = np.array([EV_mat for e in range(M)])\n",
    "value = cube + beta * EV_cube\n",
    "V_new2 = np.zeros((N,M))\n",
    "W_new2 = np.zeros((N,M))\n",
    "for i in range(N):\n",
    "    VT = value[:,i,:]\n",
    "    V_new2[i] = VT.max(axis = 1)\n",
    "    index = np.argmax(VT, axis = 1)\n",
    "    W_new2[i] = w[index]"
   ]
  },
  {
   "cell_type": "code",
   "execution_count": 264,
   "metadata": {},
   "outputs": [
    {
     "data": {
      "image/png": "[encoded data removed]",
      "text/plain": [
       "<Figure size 432x288 with 1 Axes>"
      ]
     },
     "metadata": {
      "needs_background": "light"
     },
     "output_type": "display_data"
    }
   ],
   "source": [
    "plt.plot(w,np.average(W_new1, axis = 1))\n",
    "plt.title(\"Policy Function\")\n",
    "plt.show()"
   ]
  },
  {
   "cell_type": "code",
   "execution_count": 265,
   "metadata": {},
   "outputs": [
    {
     "data": {
      "image/png": "[encoded data removed]",
      "text/plain": [
       "<Figure size 432x288 with 1 Axes>"
      ]
     },
     "metadata": {
      "needs_background": "light"
     },
     "output_type": "display_data"
    }
   ],
   "source": [
    "plt.plot(np.average(V_new1,axis=1))\n",
    "plt.title(\"Value Function\")\n",
    "plt.show()"
   ]
  },
  {
   "cell_type": "code",
   "execution_count": 266,
   "metadata": {},
   "outputs": [
    {
     "name": "stdout",
     "output_type": "stream",
     "text": [
      "Distance at T: 45979247448.96637\n",
      "Distance at T-1: 45968829677.923256\n",
      "Distance at T-2: 45950143416.50976\n",
      "Distance between the two goes down.\n"
     ]
    }
   ],
   "source": [
    "dist2=np.sum((V_new2-V_new1)**2)\n",
    "print(\"Distance at T:\",dist)\n",
    "print(\"Distance at T-1:\",Dist)\n",
    "print(\"Distance at T-2:\",dist2)\n",
    "\n",
    "print(\"Distance between the two goes down.\")"
   ]
  },
  {
   "cell_type": "code",
   "execution_count": 267,
   "metadata": {},
   "outputs": [],
   "source": [
    "#Q5.21"
   ]
  },
  {
   "cell_type": "code",
   "execution_count": 268,
   "metadata": {},
   "outputs": [],
   "source": [
    "maxiters = 500\n",
    "toler = 1e-10\n",
    "dist = 10.0\n",
    "VF_iter = 0\n",
    "V_init = np.zeros((N,M))"
   ]
  },
  {
   "cell_type": "code",
   "execution_count": 269,
   "metadata": {},
   "outputs": [
    {
     "name": "stdout",
     "output_type": "stream",
     "text": [
      "Iter= 1 , distance =  45979247448.96637\n",
      "Iter= 2 , distance =  45968829677.923256\n",
      "Iter= 3 , distance =  45950143416.50976\n",
      "Iter= 4 , distance =  45916698826.3178\n",
      "Iter= 5 , distance =  45857095250.14685\n",
      "Iter= 6 , distance =  45751696674.42443\n",
      "Iter= 7 , distance =  45568004744.36678\n",
      "Iter= 8 , distance =  45256707713.7793\n",
      "Iter= 9 , distance =  44758728727.70192\n",
      "Iter= 10 , distance =  44063254831.88393\n",
      "Iter= 11 , distance =  43458738928.76993\n",
      "Iter= 12 , distance =  44457224479.50153\n",
      "Iter= 13 , distance =  52981076462.99516\n",
      "Iter= 14 , distance =  90008703040.51067\n",
      "Iter= 15 , distance =  226562184008.26733\n",
      "Iter= 16 , distance =  457499087150.172\n",
      "Iter= 17 , distance =  192392164686.71265\n",
      "Iter= 18 , distance =  0.0\n",
      "YAY! IT CONVERGED\n",
      "V(W) [[-81011.51292546 -81023.02585093 -81034.53877639 -81046.05170186\n",
      "  -81057.56462732 -81069.07755279 -81080.59047825]\n",
      " [-81011.51292546 -81023.02585093 -81034.53877639 -81046.05170186\n",
      "  -81057.56462732 -81069.07755279 -81080.59047825]\n",
      " [-81011.51292546 -81023.02585093 -81034.53877639 -81046.05170186\n",
      "  -81057.56462732 -81069.07755279 -81080.59047825]\n",
      " [-81011.51292546 -81023.02585093 -81034.53877639 -81046.05170186\n",
      "  -81057.56462732 -81069.07755279 -81080.59047825]\n",
      " [-81011.51292546 -81023.02585093 -81034.53877639 -81046.05170186\n",
      "  -81057.56462732 -81069.07755279 -81080.59047825]\n",
      " [-81011.51292546 -81023.02585093 -81034.53877639 -81046.05170186\n",
      "  -81057.56462732 -81069.07755279 -81080.59047825]\n",
      " [-81011.51292546 -81023.02585093 -81034.53877639 -81046.05170186\n",
      "  -81057.56462732 -81069.07755279 -81080.59047825]\n",
      " [-81011.51292546 -81023.02585093 -81034.53877639 -81046.05170186\n",
      "  -81057.56462732 -81069.07755279 -81080.59047825]\n",
      " [-81011.51292546 -81023.02585093 -81034.53877639 -81046.05170186\n",
      "  -81057.56462732 -81069.07755279 -81080.59047825]\n",
      " [-81011.51292546 -81023.02585093 -81034.53877639 -81046.05170186\n",
      "  -81057.56462732 -81069.07755279 -81080.59047825]\n",
      " [-81011.51292546 -81023.02585093 -81034.53877639 -81046.05170186\n",
      "  -81057.56462732 -81069.07755279 -81080.59047825]\n",
      " [-81011.51292546 -81023.02585093 -81034.53877639 -81046.05170186\n",
      "  -81057.56462732 -81069.07755279 -81080.59047825]\n",
      " [-81011.51292546 -81023.02585093 -81034.53877639 -81046.05170186\n",
      "  -81057.56462732 -81069.07755279 -81080.59047825]\n",
      " [-81011.51292546 -81023.02585093 -81034.53877639 -81046.05170186\n",
      "  -81057.56462732 -81069.07755279 -81080.59047825]\n",
      " [-81011.51292546 -81023.02585093 -81034.53877639 -81046.05170186\n",
      "  -81057.56462732 -81069.07755279 -81080.59047825]\n",
      " [-81011.51292546 -81023.02585093 -81034.53877639 -81046.05170186\n",
      "  -81057.56462732 -81069.07755279 -81080.59047825]\n",
      " [-81011.51292546 -81023.02585093 -81034.53877639 -81046.05170186\n",
      "  -81057.56462732 -81069.07755279 -81080.59047825]\n",
      " [-81011.51292546 -81023.02585093 -81034.53877639 -81046.05170186\n",
      "  -81057.56462732 -81069.07755279 -81080.59047825]\n",
      " [-81011.51292546 -81023.02585093 -81034.53877639 -81046.05170186\n",
      "  -81057.56462732 -81069.07755279 -81080.59047825]\n",
      " [-81011.51292546 -81023.02585093 -81034.53877639 -81046.05170186\n",
      "  -81057.56462732 -81069.07755279 -81080.59047825]\n",
      " [-81011.51292546 -81023.02585093 -81034.53877639 -81046.05170186\n",
      "  -81057.56462732 -81069.07755279 -81080.59047825]\n",
      " [-81011.51292546 -81023.02585093 -81034.53877639 -81046.05170186\n",
      "  -81057.56462732 -81069.07755279 -81080.59047825]\n",
      " [-81011.51292546 -81023.02585093 -81034.53877639 -81046.05170186\n",
      "  -81057.56462732 -81069.07755279 -81080.59047825]\n",
      " [-81011.51292546 -81023.02585093 -81034.53877639 -81046.05170186\n",
      "  -81057.56462732 -81069.07755279 -81080.59047825]\n",
      " [-81011.51292546 -81023.02585093 -81034.53877639 -81046.05170186\n",
      "  -81057.56462732 -81069.07755279 -81080.59047825]\n",
      " [-81011.51292546 -81023.02585093 -81034.53877639 -81046.05170186\n",
      "  -81057.56462732 -81069.07755279 -81080.59047825]\n",
      " [-81011.51292546 -81023.02585093 -81034.53877639 -81046.05170186\n",
      "  -81057.56462732 -81069.07755279 -81080.59047825]\n",
      " [-81011.51292546 -81023.02585093 -81034.53877639 -81046.05170186\n",
      "  -81057.56462732 -81069.07755279 -81080.59047825]\n",
      " [-81011.51292546 -81023.02585093 -81034.53877639 -81046.05170186\n",
      "  -81057.56462732 -81069.07755279 -81080.59047825]\n",
      " [-81011.51292546 -81023.02585093 -81034.53877639 -81046.05170186\n",
      "  -81057.56462732 -81069.07755279 -81080.59047825]\n",
      " [-81011.51292546 -81023.02585093 -81034.53877639 -81046.05170186\n",
      "  -81057.56462732 -81069.07755279 -81080.59047825]\n",
      " [-81011.51292546 -81023.02585093 -81034.53877639 -81046.05170186\n",
      "  -81057.56462732 -81069.07755279 -81080.59047825]\n",
      " [-81011.51292546 -81023.02585093 -81034.53877639 -81046.05170186\n",
      "  -81057.56462732 -81069.07755279 -81080.59047825]\n",
      " [-81011.51292546 -81023.02585093 -81034.53877639 -81046.05170186\n",
      "  -81057.56462732 -81069.07755279 -81080.59047825]\n",
      " [-81011.51292546 -81023.02585093 -81034.53877639 -81046.05170186\n",
      "  -81057.56462732 -81069.07755279 -81080.59047825]\n",
      " [-81011.51292546 -81023.02585093 -81034.53877639 -81046.05170186\n",
      "  -81057.56462732 -81069.07755279 -81080.59047825]\n",
      " [-81011.51292546 -81023.02585093 -81034.53877639 -81046.05170186\n",
      "  -81057.56462732 -81069.07755279 -81080.59047825]\n",
      " [-81011.51292546 -81023.02585093 -81034.53877639 -81046.05170186\n",
      "  -81057.56462732 -81069.07755279 -81080.59047825]\n",
      " [-81011.51292546 -81023.02585093 -81034.53877639 -81046.05170186\n",
      "  -81057.56462732 -81069.07755279 -81080.59047825]\n",
      " [-81011.51292546 -81023.02585093 -81034.53877639 -81046.05170186\n",
      "  -81057.56462732 -81069.07755279 -81080.59047825]\n",
      " [-81011.51292546 -81023.02585093 -81034.53877639 -81046.05170186\n",
      "  -81057.56462732 -81069.07755279 -81080.59047825]\n",
      " [-81011.51292546 -81023.02585093 -81034.53877639 -81046.05170186\n",
      "  -81057.56462732 -81069.07755279 -81080.59047825]\n",
      " [-81011.51292546 -81023.02585093 -81034.53877639 -81046.05170186\n",
      "  -81057.56462732 -81069.07755279 -81080.59047825]\n",
      " [-81011.51292546 -81023.02585093 -81034.53877639 -81046.05170186\n",
      "  -81057.56462732 -81069.07755279 -81080.59047825]\n",
      " [-81011.51292546 -81023.02585093 -81034.53877639 -81046.05170186\n",
      "  -81057.56462732 -81069.07755279 -81080.59047825]\n",
      " [-81011.51292546 -81023.02585093 -81034.53877639 -81046.05170186\n",
      "  -81057.56462732 -81069.07755279 -81080.59047825]\n",
      " [-81011.51292546 -81023.02585093 -81034.53877639 -81046.05170186\n",
      "  -81057.56462732 -81069.07755279 -81080.59047825]\n",
      " [-81011.51292546 -81023.02585093 -81034.53877639 -81046.05170186\n",
      "  -81057.56462732 -81069.07755279 -81080.59047825]\n",
      " [-81011.51292546 -81023.02585093 -81034.53877639 -81046.05170186\n",
      "  -81057.56462732 -81069.07755279 -81080.59047825]\n",
      " [-81011.51292546 -81023.02585093 -81034.53877639 -81046.05170186\n",
      "  -81057.56462732 -81069.07755279 -81080.59047825]\n",
      " [-81011.51292546 -81023.02585093 -81034.53877639 -81046.05170186\n",
      "  -81057.56462732 -81069.07755279 -81080.59047825]\n",
      " [-81011.51292546 -81023.02585093 -81034.53877639 -81046.05170186\n",
      "  -81057.56462732 -81069.07755279 -81080.59047825]\n",
      " [-81011.51292546 -81023.02585093 -81034.53877639 -81046.05170186\n",
      "  -81057.56462732 -81069.07755279 -81080.59047825]\n",
      " [-81011.51292546 -81023.02585093 -81034.53877639 -81046.05170186\n",
      "  -81057.56462732 -81069.07755279 -81080.59047825]\n",
      " [-81011.51292546 -81023.02585093 -81034.53877639 -81046.05170186\n",
      "  -81057.56462732 -81069.07755279 -81080.59047825]\n",
      " [-81011.51292546 -81023.02585093 -81034.53877639 -81046.05170186\n",
      "  -81057.56462732 -81069.07755279 -81080.59047825]\n",
      " [-81011.51292546 -81023.02585093 -81034.53877639 -81046.05170186\n",
      "  -81057.56462732 -81069.07755279 -81080.59047825]\n",
      " [-81011.51292546 -81023.02585093 -81034.53877639 -81046.05170186\n",
      "  -81057.56462732 -81069.07755279 -81080.59047825]\n",
      " [-81011.51292546 -81023.02585093 -81034.53877639 -81046.05170186\n",
      "  -81057.56462732 -81069.07755279 -81080.59047825]\n",
      " [-81011.51292546 -81023.02585093 -81034.53877639 -81046.05170186\n",
      "  -81057.56462732 -81069.07755279 -81080.59047825]\n",
      " [-81011.51292546 -81023.02585093 -81034.53877639 -81046.05170186\n",
      "  -81057.56462732 -81069.07755279 -81080.59047825]\n",
      " [-81011.51292546 -81023.02585093 -81034.53877639 -81046.05170186\n",
      "  -81057.56462732 -81069.07755279 -81080.59047825]\n",
      " [-81011.51292546 -81023.02585093 -81034.53877639 -81046.05170186\n",
      "  -81057.56462732 -81069.07755279 -81080.59047825]\n",
      " [-81011.51292546 -81023.02585093 -81034.53877639 -81046.05170186\n",
      "  -81057.56462732 -81069.07755279 -81080.59047825]\n",
      " [-81011.51292546 -81023.02585093 -81034.53877639 -81046.05170186\n",
      "  -81057.56462732 -81069.07755279 -81080.59047825]\n",
      " [-81011.51292546 -81023.02585093 -81034.53877639 -81046.05170186\n",
      "  -81057.56462732 -81069.07755279 -81080.59047825]\n",
      " [-81011.51292546 -81023.02585093 -81034.53877639 -81046.05170186\n",
      "  -81057.56462732 -81069.07755279 -81080.59047825]\n",
      " [-81011.51292546 -81023.02585093 -81034.53877639 -81046.05170186\n",
      "  -81057.56462732 -81069.07755279 -81080.59047825]\n",
      " [-81011.51292546 -81023.02585093 -81034.53877639 -81046.05170186\n",
      "  -81057.56462732 -81069.07755279 -81080.59047825]\n",
      " [-81011.51292546 -81023.02585093 -81034.53877639 -81046.05170186\n",
      "  -81057.56462732 -81069.07755279 -81080.59047825]\n",
      " [-81011.51292546 -81023.02585093 -81034.53877639 -81046.05170186\n",
      "  -81057.56462732 -81069.07755279 -81080.59047825]\n",
      " [-81011.51292546 -81023.02585093 -81034.53877639 -81046.05170186\n",
      "  -81057.56462732 -81069.07755279 -81080.59047825]\n",
      " [-81011.51292546 -81023.02585093 -81034.53877639 -81046.05170186\n",
      "  -81057.56462732 -81069.07755279 -81080.59047825]\n",
      " [-81011.51292546 -81023.02585093 -81034.53877639 -81046.05170186\n",
      "  -81057.56462732 -81069.07755279 -81080.59047825]\n",
      " [-81011.51292546 -81023.02585093 -81034.53877639 -81046.05170186\n",
      "  -81057.56462732 -81069.07755279 -81080.59047825]\n",
      " [-81011.51292546 -81023.02585093 -81034.53877639 -81046.05170186\n",
      "  -81057.56462732 -81069.07755279 -81080.59047825]\n",
      " [-81011.51292546 -81023.02585093 -81034.53877639 -81046.05170186\n",
      "  -81057.56462732 -81069.07755279 -81080.59047825]\n",
      " [-81011.51292546 -81023.02585093 -81034.53877639 -81046.05170186\n",
      "  -81057.56462732 -81069.07755279 -81080.59047825]\n",
      " [-81011.51292546 -81023.02585093 -81034.53877639 -81046.05170186\n",
      "  -81057.56462732 -81069.07755279 -81080.59047825]\n",
      " [-81011.51292546 -81023.02585093 -81034.53877639 -81046.05170186\n",
      "  -81057.56462732 -81069.07755279 -81080.59047825]\n",
      " [-81011.51292546 -81023.02585093 -81034.53877639 -81046.05170186\n",
      "  -81057.56462732 -81069.07755279 -81080.59047825]\n",
      " [-81011.51292546 -81023.02585093 -81034.53877639 -81046.05170186\n",
      "  -81057.56462732 -81069.07755279 -81080.59047825]\n",
      " [-81011.51292546 -81023.02585093 -81034.53877639 -81046.05170186\n",
      "  -81057.56462732 -81069.07755279 -81080.59047825]\n",
      " [-81011.51292546 -81023.02585093 -81034.53877639 -81046.05170186\n",
      "  -81057.56462732 -81069.07755279 -81080.59047825]\n",
      " [-81011.51292546 -81023.02585093 -81034.53877639 -81046.05170186\n",
      "  -81057.56462732 -81069.07755279 -81080.59047825]\n",
      " [-81011.51292546 -81023.02585093 -81034.53877639 -81046.05170186\n",
      "  -81057.56462732 -81069.07755279 -81080.59047825]\n",
      " [-81011.51292546 -81023.02585093 -81034.53877639 -81046.05170186\n",
      "  -81057.56462732 -81069.07755279 -81080.59047825]\n",
      " [-81011.51292546 -81023.02585093 -81034.53877639 -81046.05170186\n",
      "  -81057.56462732 -81069.07755279 -81080.59047825]\n",
      " [-81011.51292546 -81023.02585093 -81034.53877639 -81046.05170186\n",
      "  -81057.56462732 -81069.07755279 -81080.59047825]\n",
      " [-81011.51292546 -81023.02585093 -81034.53877639 -81046.05170186\n",
      "  -81057.56462732 -81069.07755279 -81080.59047825]\n",
      " [-81011.51292546 -81023.02585093 -81034.53877639 -81046.05170186\n",
      "  -81057.56462732 -81069.07755279 -81080.59047825]\n",
      " [-81011.51292546 -81023.02585093 -81034.53877639 -81046.05170186\n",
      "  -81057.56462732 -81069.07755279 -81080.59047825]\n",
      " [-81011.51292546 -81023.02585093 -81034.53877639 -81046.05170186\n",
      "  -81057.56462732 -81069.07755279 -81080.59047825]\n",
      " [-81011.51292546 -81023.02585093 -81034.53877639 -81046.05170186\n",
      "  -81057.56462732 -81069.07755279 -81080.59047825]\n",
      " [-81011.51292546 -81023.02585093 -81034.53877639 -81046.05170186\n",
      "  -81057.56462732 -81069.07755279 -81080.59047825]\n",
      " [-81011.51292546 -81023.02585093 -81034.53877639 -81046.05170186\n",
      "  -81057.56462732 -81069.07755279 -81080.59047825]\n",
      " [-81011.51292546 -81023.02585093 -81034.53877639 -81046.05170186\n",
      "  -81057.56462732 -81069.07755279 -81080.59047825]\n",
      " [-81011.51292546 -81023.02585093 -81034.53877639 -81046.05170186\n",
      "  -81057.56462732 -81069.07755279 -81080.59047825]\n",
      " [-81011.51292546 -81023.02585093 -81034.53877639 -81046.05170186\n",
      "  -81057.56462732 -81069.07755279 -81080.59047825]\n",
      " [-81011.51292546 -81023.02585093 -81034.53877639 -81046.05170186\n",
      "  -81057.56462732 -81069.07755279 -81080.59047825]]\n"
     ]
    }
   ],
   "source": [
    "while dist > toler and VF_iter < maxiters:\n",
    "    VF_iter += 1\n",
    "\n",
    "    EV = V_init @ pts_pdf.reshape((M,1))\n",
    "    EV_mat = np.tile(EV.reshape((1,N)),(N,1))\n",
    "    EV_mat[~c_pos] = -9e+4\n",
    "    EV_cube = np.array([EV_mat for e in range(M)])\n",
    "    value = cube + beta * EV_cube\n",
    "    V_new = np.zeros((N,M))\n",
    "    W_new = np.zeros((N,M))\n",
    "    for i in range(N):\n",
    "        VT = value[:,i,:]\n",
    "        V_new[i] = VT.max(axis = 1)\n",
    "        index = np.argmax(VT, axis = 1)\n",
    "        W_new[i] = w[index]\n",
    "\n",
    "    dist = np.sum((V_new - V_init)**2)\n",
    "    print('Iter=', VF_iter, ', distance = ', dist)\n",
    "    V_init = V_new\n",
    "    \n",
    "print('YAY! IT CONVERGED')\n",
    "print('V(W)',V_init)"
   ]
  },
  {
   "cell_type": "code",
   "execution_count": 270,
   "metadata": {},
   "outputs": [],
   "source": [
    "#Q5.22"
   ]
  },
  {
   "cell_type": "code",
   "execution_count": 271,
   "metadata": {},
   "outputs": [
    {
     "data": {
      "image/png": "[encoded data removed]",
      "text/plain": [
       "<Figure size 576x360 with 1 Axes>"
      ]
     },
     "metadata": {
      "needs_background": "light"
     },
     "output_type": "display_data"
    }
   ],
   "source": [
    "from mpl_toolkits.mplot3d import Axes3D\n",
    "X,Y = np.meshgrid(w,pts)\n",
    "n_fig = plt.figure(figsize=(8,5))\n",
    "n_ax = n_fig.add_subplot(111, projection = '3d')\n",
    "n_ax.plot_surface(X.T,Y.T,W_new)\n",
    "n_ax.set_title(\"Policy Function\")\n",
    "n_ax.set_xlabel('Cake Today')\n",
    "n_ax.set_ylabel('Taste Shock Today')\n",
    "n_ax.view_init(elev=45,azim=45)\n",
    "plt.show()"
   ]
  },
  {
   "cell_type": "code",
   "execution_count": null,
   "metadata": {},
   "outputs": [],
   "source": []
  },
  {
   "cell_type": "code",
   "execution_count": null,
   "metadata": {},
   "outputs": [],
   "source": []
  },
  {
   "cell_type": "code",
   "execution_count": null,
   "metadata": {},
   "outputs": [],
   "source": []
  },
  {
   "cell_type": "code",
   "execution_count": null,
   "metadata": {},
   "outputs": [],
   "source": []
  },
  {
   "cell_type": "code",
   "execution_count": null,
   "metadata": {},
   "outputs": [],
   "source": []
  },
  {
   "cell_type": "code",
   "execution_count": null,
   "metadata": {},
   "outputs": [],
   "source": []
  },
  {
   "cell_type": "code",
   "execution_count": null,
   "metadata": {},
   "outputs": [],
   "source": []
  }
 ],
 "metadata": {
  "kernelspec": {
   "display_name": "Python 3",
   "language": "python",
   "name": "python3"
  },
  "language_info": {
   "codemirror_mode": {
    "name": "ipython",
    "version": 3
   },
   "file_extension": ".py",
   "mimetype": "text/x-python",
   "name": "python",
   "nbconvert_exporter": "python",
   "pygments_lexer": "ipython3",
   "version": "3.7.0"
  }
 },
 "nbformat": 4,
 "nbformat_minor": 2
}
